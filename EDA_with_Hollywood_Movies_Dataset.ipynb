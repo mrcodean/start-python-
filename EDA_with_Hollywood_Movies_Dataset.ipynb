{
  "nbformat": 4,
  "nbformat_minor": 0,
  "metadata": {
    "colab": {
      "provenance": [],
      "authorship_tag": "ABX9TyMSQB+t60EXBHhuK7utl/PX",
      "include_colab_link": true
    },
    "kernelspec": {
      "name": "python3",
      "display_name": "Python 3"
    },
    "language_info": {
      "name": "python"
    }
  },
  "cells": [
    {
      "cell_type": "markdown",
      "metadata": {
        "id": "view-in-github",
        "colab_type": "text"
      },
      "source": [
        "<a href=\"https://colab.research.google.com/github/mrcodean/start-python-/blob/main/EDA_with_Hollywood_Movies_Dataset.ipynb\" target=\"_parent\"><img src=\"https://colab.research.google.com/assets/colab-badge.svg\" alt=\"Open In Colab\"/></a>"
      ]
    },
    {
      "cell_type": "markdown",
      "source": [
        "# EXPLORATORY DATA ANALYSIS WITH  HOLLYWOOD MOVIES DATASET"
      ],
      "metadata": {
        "id": "0T5Dtz_JWj-_"
      }
    },
    {
      "cell_type": "markdown",
      "source": [
        "## INTRODUCTION \n",
        "\n",
        "In this Notebook we will be doing an Exploratory Data Analysis with Hollywood movies dataset and we will try build a linear regression model from the data, check for its fit and validity. well if the model is validated we will predict \n",
        "with unseen datas. "
      ],
      "metadata": {
        "id": "Dk3eVBDu1HnG"
      }
    },
    {
      "cell_type": "markdown",
      "source": [
        "### Importing Necessary Libraries and loading the data"
      ],
      "metadata": {
        "id": "5H0cNIAU3zC8"
      }
    },
    {
      "cell_type": "code",
      "source": [
        "import pandas as pd \n",
        "import numpy as np\n",
        "\n",
        "import matplotlib.pyplot as plt\n",
        "import seaborn as sns \n",
        "\n",
        "from sklearn.linear_model import LinearRegression \n",
        "\n",
        "from scipy import stats\n",
        "\n",
        "from google.colab import drive \n",
        "drive.mount('/content/gdrive')"
      ],
      "metadata": {
        "colab": {
          "base_uri": "https://localhost:8080/"
        },
        "id": "uLzKuQCbT5dX",
        "outputId": "0650f70c-1f17-4a6c-dcb3-e7693937fc25"
      },
      "execution_count": 137,
      "outputs": [
        {
          "output_type": "stream",
          "name": "stdout",
          "text": [
            "Drive already mounted at /content/gdrive; to attempt to forcibly remount, call drive.mount(\"/content/gdrive\", force_remount=True).\n"
          ]
        }
      ]
    },
    {
      "cell_type": "code",
      "source": [
        "import warnings \n",
        "warnings.filterwarnings('ignore')"
      ],
      "metadata": {
        "id": "Fof0GDy4sUlx"
      },
      "execution_count": 138,
      "outputs": []
    },
    {
      "cell_type": "code",
      "source": [
        "df = pd.read_csv('/content/gdrive/MyDrive/INTERNSHIP/GIRP 23/HollywoodsMostProfitableStories.csv')\n",
        "df"
      ],
      "metadata": {
        "colab": {
          "base_uri": "https://localhost:8080/",
          "height": 423
        },
        "id": "iqYZihMYWw4H",
        "outputId": "d05a02fa-facb-4ce6-e7d6-9d90835c319d"
      },
      "execution_count": 139,
      "outputs": [
        {
          "output_type": "execute_result",
          "data": {
            "text/plain": [
              "                                  Film    Genre            Lead Studio  \\\n",
              "0                           27 Dresses   Comedy                    Fox   \n",
              "1                 (500) Days of Summer   Comedy                    Fox   \n",
              "2                   A Dangerous Method    Drama            Independent   \n",
              "3                        A Serious Man    Drama              Universal   \n",
              "4                  Across the Universe  Romance            Independent   \n",
              "..                                 ...      ...                    ...   \n",
              "69               What Happens in Vegas   Comedy                    Fox   \n",
              "70                        When in Rome   Comedy                 Disney   \n",
              "71  You Will Meet a Tall Dark Stranger   Comedy            Independent   \n",
              "72                     Youth in Revolt   Comedy  The Weinstein Company   \n",
              "73          Zack and Miri Make a Porno  Romance  The Weinstein Company   \n",
              "\n",
              "    Audience  score %  Profitability  Rotten Tomatoes %  Worldwide Gross  Year  \n",
              "0                71.0       5.343622               40.0       160.308654  2008  \n",
              "1                81.0       8.096000               87.0        60.720000  2009  \n",
              "2                89.0       0.448645               79.0         8.972895  2011  \n",
              "3                64.0       4.382857               89.0        30.680000  2009  \n",
              "4                84.0       0.652603               54.0        29.367143  2007  \n",
              "..                ...            ...                ...              ...   ...  \n",
              "69               72.0       6.267647               28.0       219.367646  2008  \n",
              "70               44.0            NaN               15.0        43.040000  2010  \n",
              "71               35.0       1.211818               43.0        26.660000  2010  \n",
              "72               52.0       1.090000               68.0        19.620000  2010  \n",
              "73               70.0       1.747542               64.0        41.941000  2008  \n",
              "\n",
              "[74 rows x 8 columns]"
            ],
            "text/html": [
              "\n",
              "  <div id=\"df-8c60ea20-347b-4c08-9ee3-6e5c1152f8d1\">\n",
              "    <div class=\"colab-df-container\">\n",
              "      <div>\n",
              "<style scoped>\n",
              "    .dataframe tbody tr th:only-of-type {\n",
              "        vertical-align: middle;\n",
              "    }\n",
              "\n",
              "    .dataframe tbody tr th {\n",
              "        vertical-align: top;\n",
              "    }\n",
              "\n",
              "    .dataframe thead th {\n",
              "        text-align: right;\n",
              "    }\n",
              "</style>\n",
              "<table border=\"1\" class=\"dataframe\">\n",
              "  <thead>\n",
              "    <tr style=\"text-align: right;\">\n",
              "      <th></th>\n",
              "      <th>Film</th>\n",
              "      <th>Genre</th>\n",
              "      <th>Lead Studio</th>\n",
              "      <th>Audience  score %</th>\n",
              "      <th>Profitability</th>\n",
              "      <th>Rotten Tomatoes %</th>\n",
              "      <th>Worldwide Gross</th>\n",
              "      <th>Year</th>\n",
              "    </tr>\n",
              "  </thead>\n",
              "  <tbody>\n",
              "    <tr>\n",
              "      <th>0</th>\n",
              "      <td>27 Dresses</td>\n",
              "      <td>Comedy</td>\n",
              "      <td>Fox</td>\n",
              "      <td>71.0</td>\n",
              "      <td>5.343622</td>\n",
              "      <td>40.0</td>\n",
              "      <td>160.308654</td>\n",
              "      <td>2008</td>\n",
              "    </tr>\n",
              "    <tr>\n",
              "      <th>1</th>\n",
              "      <td>(500) Days of Summer</td>\n",
              "      <td>Comedy</td>\n",
              "      <td>Fox</td>\n",
              "      <td>81.0</td>\n",
              "      <td>8.096000</td>\n",
              "      <td>87.0</td>\n",
              "      <td>60.720000</td>\n",
              "      <td>2009</td>\n",
              "    </tr>\n",
              "    <tr>\n",
              "      <th>2</th>\n",
              "      <td>A Dangerous Method</td>\n",
              "      <td>Drama</td>\n",
              "      <td>Independent</td>\n",
              "      <td>89.0</td>\n",
              "      <td>0.448645</td>\n",
              "      <td>79.0</td>\n",
              "      <td>8.972895</td>\n",
              "      <td>2011</td>\n",
              "    </tr>\n",
              "    <tr>\n",
              "      <th>3</th>\n",
              "      <td>A Serious Man</td>\n",
              "      <td>Drama</td>\n",
              "      <td>Universal</td>\n",
              "      <td>64.0</td>\n",
              "      <td>4.382857</td>\n",
              "      <td>89.0</td>\n",
              "      <td>30.680000</td>\n",
              "      <td>2009</td>\n",
              "    </tr>\n",
              "    <tr>\n",
              "      <th>4</th>\n",
              "      <td>Across the Universe</td>\n",
              "      <td>Romance</td>\n",
              "      <td>Independent</td>\n",
              "      <td>84.0</td>\n",
              "      <td>0.652603</td>\n",
              "      <td>54.0</td>\n",
              "      <td>29.367143</td>\n",
              "      <td>2007</td>\n",
              "    </tr>\n",
              "    <tr>\n",
              "      <th>...</th>\n",
              "      <td>...</td>\n",
              "      <td>...</td>\n",
              "      <td>...</td>\n",
              "      <td>...</td>\n",
              "      <td>...</td>\n",
              "      <td>...</td>\n",
              "      <td>...</td>\n",
              "      <td>...</td>\n",
              "    </tr>\n",
              "    <tr>\n",
              "      <th>69</th>\n",
              "      <td>What Happens in Vegas</td>\n",
              "      <td>Comedy</td>\n",
              "      <td>Fox</td>\n",
              "      <td>72.0</td>\n",
              "      <td>6.267647</td>\n",
              "      <td>28.0</td>\n",
              "      <td>219.367646</td>\n",
              "      <td>2008</td>\n",
              "    </tr>\n",
              "    <tr>\n",
              "      <th>70</th>\n",
              "      <td>When in Rome</td>\n",
              "      <td>Comedy</td>\n",
              "      <td>Disney</td>\n",
              "      <td>44.0</td>\n",
              "      <td>NaN</td>\n",
              "      <td>15.0</td>\n",
              "      <td>43.040000</td>\n",
              "      <td>2010</td>\n",
              "    </tr>\n",
              "    <tr>\n",
              "      <th>71</th>\n",
              "      <td>You Will Meet a Tall Dark Stranger</td>\n",
              "      <td>Comedy</td>\n",
              "      <td>Independent</td>\n",
              "      <td>35.0</td>\n",
              "      <td>1.211818</td>\n",
              "      <td>43.0</td>\n",
              "      <td>26.660000</td>\n",
              "      <td>2010</td>\n",
              "    </tr>\n",
              "    <tr>\n",
              "      <th>72</th>\n",
              "      <td>Youth in Revolt</td>\n",
              "      <td>Comedy</td>\n",
              "      <td>The Weinstein Company</td>\n",
              "      <td>52.0</td>\n",
              "      <td>1.090000</td>\n",
              "      <td>68.0</td>\n",
              "      <td>19.620000</td>\n",
              "      <td>2010</td>\n",
              "    </tr>\n",
              "    <tr>\n",
              "      <th>73</th>\n",
              "      <td>Zack and Miri Make a Porno</td>\n",
              "      <td>Romance</td>\n",
              "      <td>The Weinstein Company</td>\n",
              "      <td>70.0</td>\n",
              "      <td>1.747542</td>\n",
              "      <td>64.0</td>\n",
              "      <td>41.941000</td>\n",
              "      <td>2008</td>\n",
              "    </tr>\n",
              "  </tbody>\n",
              "</table>\n",
              "<p>74 rows × 8 columns</p>\n",
              "</div>\n",
              "      <button class=\"colab-df-convert\" onclick=\"convertToInteractive('df-8c60ea20-347b-4c08-9ee3-6e5c1152f8d1')\"\n",
              "              title=\"Convert this dataframe to an interactive table.\"\n",
              "              style=\"display:none;\">\n",
              "        \n",
              "  <svg xmlns=\"http://www.w3.org/2000/svg\" height=\"24px\"viewBox=\"0 0 24 24\"\n",
              "       width=\"24px\">\n",
              "    <path d=\"M0 0h24v24H0V0z\" fill=\"none\"/>\n",
              "    <path d=\"M18.56 5.44l.94 2.06.94-2.06 2.06-.94-2.06-.94-.94-2.06-.94 2.06-2.06.94zm-11 1L8.5 8.5l.94-2.06 2.06-.94-2.06-.94L8.5 2.5l-.94 2.06-2.06.94zm10 10l.94 2.06.94-2.06 2.06-.94-2.06-.94-.94-2.06-.94 2.06-2.06.94z\"/><path d=\"M17.41 7.96l-1.37-1.37c-.4-.4-.92-.59-1.43-.59-.52 0-1.04.2-1.43.59L10.3 9.45l-7.72 7.72c-.78.78-.78 2.05 0 2.83L4 21.41c.39.39.9.59 1.41.59.51 0 1.02-.2 1.41-.59l7.78-7.78 2.81-2.81c.8-.78.8-2.07 0-2.86zM5.41 20L4 18.59l7.72-7.72 1.47 1.35L5.41 20z\"/>\n",
              "  </svg>\n",
              "      </button>\n",
              "      \n",
              "  <style>\n",
              "    .colab-df-container {\n",
              "      display:flex;\n",
              "      flex-wrap:wrap;\n",
              "      gap: 12px;\n",
              "    }\n",
              "\n",
              "    .colab-df-convert {\n",
              "      background-color: #E8F0FE;\n",
              "      border: none;\n",
              "      border-radius: 50%;\n",
              "      cursor: pointer;\n",
              "      display: none;\n",
              "      fill: #1967D2;\n",
              "      height: 32px;\n",
              "      padding: 0 0 0 0;\n",
              "      width: 32px;\n",
              "    }\n",
              "\n",
              "    .colab-df-convert:hover {\n",
              "      background-color: #E2EBFA;\n",
              "      box-shadow: 0px 1px 2px rgba(60, 64, 67, 0.3), 0px 1px 3px 1px rgba(60, 64, 67, 0.15);\n",
              "      fill: #174EA6;\n",
              "    }\n",
              "\n",
              "    [theme=dark] .colab-df-convert {\n",
              "      background-color: #3B4455;\n",
              "      fill: #D2E3FC;\n",
              "    }\n",
              "\n",
              "    [theme=dark] .colab-df-convert:hover {\n",
              "      background-color: #434B5C;\n",
              "      box-shadow: 0px 1px 3px 1px rgba(0, 0, 0, 0.15);\n",
              "      filter: drop-shadow(0px 1px 2px rgba(0, 0, 0, 0.3));\n",
              "      fill: #FFFFFF;\n",
              "    }\n",
              "  </style>\n",
              "\n",
              "      <script>\n",
              "        const buttonEl =\n",
              "          document.querySelector('#df-8c60ea20-347b-4c08-9ee3-6e5c1152f8d1 button.colab-df-convert');\n",
              "        buttonEl.style.display =\n",
              "          google.colab.kernel.accessAllowed ? 'block' : 'none';\n",
              "\n",
              "        async function convertToInteractive(key) {\n",
              "          const element = document.querySelector('#df-8c60ea20-347b-4c08-9ee3-6e5c1152f8d1');\n",
              "          const dataTable =\n",
              "            await google.colab.kernel.invokeFunction('convertToInteractive',\n",
              "                                                     [key], {});\n",
              "          if (!dataTable) return;\n",
              "\n",
              "          const docLinkHtml = 'Like what you see? Visit the ' +\n",
              "            '<a target=\"_blank\" href=https://colab.research.google.com/notebooks/data_table.ipynb>data table notebook</a>'\n",
              "            + ' to learn more about interactive tables.';\n",
              "          element.innerHTML = '';\n",
              "          dataTable['output_type'] = 'display_data';\n",
              "          await google.colab.output.renderOutput(dataTable, element);\n",
              "          const docLink = document.createElement('div');\n",
              "          docLink.innerHTML = docLinkHtml;\n",
              "          element.appendChild(docLink);\n",
              "        }\n",
              "      </script>\n",
              "    </div>\n",
              "  </div>\n",
              "  "
            ]
          },
          "metadata": {},
          "execution_count": 139
        }
      ]
    },
    {
      "cell_type": "code",
      "source": [
        "df.info()"
      ],
      "metadata": {
        "colab": {
          "base_uri": "https://localhost:8080/"
        },
        "id": "_vqhRMkXze6J",
        "outputId": "08614da2-eea5-4a51-862f-cd008f4310a8"
      },
      "execution_count": 140,
      "outputs": [
        {
          "output_type": "stream",
          "name": "stdout",
          "text": [
            "<class 'pandas.core.frame.DataFrame'>\n",
            "RangeIndex: 74 entries, 0 to 73\n",
            "Data columns (total 8 columns):\n",
            " #   Column             Non-Null Count  Dtype  \n",
            "---  ------             --------------  -----  \n",
            " 0   Film               74 non-null     object \n",
            " 1   Genre              74 non-null     object \n",
            " 2   Lead Studio        73 non-null     object \n",
            " 3   Audience  score %  73 non-null     float64\n",
            " 4   Profitability      71 non-null     float64\n",
            " 5   Rotten Tomatoes %  73 non-null     float64\n",
            " 6   Worldwide Gross    74 non-null     float64\n",
            " 7   Year               74 non-null     int64  \n",
            "dtypes: float64(4), int64(1), object(3)\n",
            "memory usage: 4.8+ KB\n"
          ]
        }
      ]
    },
    {
      "cell_type": "code",
      "source": [
        "df.describe()"
      ],
      "metadata": {
        "colab": {
          "base_uri": "https://localhost:8080/",
          "height": 300
        },
        "id": "ft4Rj7Sev9II",
        "outputId": "143a6171-9948-4029-9e56-7cc0707112a6"
      },
      "execution_count": 141,
      "outputs": [
        {
          "output_type": "execute_result",
          "data": {
            "text/plain": [
              "       Audience  score %  Profitability  Rotten Tomatoes %  Worldwide Gross  \\\n",
              "count          73.000000      71.000000          73.000000        74.000000   \n",
              "mean           64.136986       4.741610          47.356164       136.351979   \n",
              "std            13.647665       8.292017          26.242655       157.067561   \n",
              "min            35.000000       0.005000           3.000000         0.025000   \n",
              "25%            52.000000       1.790680          27.000000        32.447500   \n",
              "50%            64.000000       2.642353          45.000000        73.198612   \n",
              "75%            76.000000       4.850958          65.000000       190.185250   \n",
              "max            89.000000      66.934000          96.000000       709.820000   \n",
              "\n",
              "              Year  \n",
              "count    74.000000  \n",
              "mean   2009.054054  \n",
              "std       1.353756  \n",
              "min    2007.000000  \n",
              "25%    2008.000000  \n",
              "50%    2009.000000  \n",
              "75%    2010.000000  \n",
              "max    2011.000000  "
            ],
            "text/html": [
              "\n",
              "  <div id=\"df-74630d3d-83a2-438e-b39a-500fea73e3b5\">\n",
              "    <div class=\"colab-df-container\">\n",
              "      <div>\n",
              "<style scoped>\n",
              "    .dataframe tbody tr th:only-of-type {\n",
              "        vertical-align: middle;\n",
              "    }\n",
              "\n",
              "    .dataframe tbody tr th {\n",
              "        vertical-align: top;\n",
              "    }\n",
              "\n",
              "    .dataframe thead th {\n",
              "        text-align: right;\n",
              "    }\n",
              "</style>\n",
              "<table border=\"1\" class=\"dataframe\">\n",
              "  <thead>\n",
              "    <tr style=\"text-align: right;\">\n",
              "      <th></th>\n",
              "      <th>Audience  score %</th>\n",
              "      <th>Profitability</th>\n",
              "      <th>Rotten Tomatoes %</th>\n",
              "      <th>Worldwide Gross</th>\n",
              "      <th>Year</th>\n",
              "    </tr>\n",
              "  </thead>\n",
              "  <tbody>\n",
              "    <tr>\n",
              "      <th>count</th>\n",
              "      <td>73.000000</td>\n",
              "      <td>71.000000</td>\n",
              "      <td>73.000000</td>\n",
              "      <td>74.000000</td>\n",
              "      <td>74.000000</td>\n",
              "    </tr>\n",
              "    <tr>\n",
              "      <th>mean</th>\n",
              "      <td>64.136986</td>\n",
              "      <td>4.741610</td>\n",
              "      <td>47.356164</td>\n",
              "      <td>136.351979</td>\n",
              "      <td>2009.054054</td>\n",
              "    </tr>\n",
              "    <tr>\n",
              "      <th>std</th>\n",
              "      <td>13.647665</td>\n",
              "      <td>8.292017</td>\n",
              "      <td>26.242655</td>\n",
              "      <td>157.067561</td>\n",
              "      <td>1.353756</td>\n",
              "    </tr>\n",
              "    <tr>\n",
              "      <th>min</th>\n",
              "      <td>35.000000</td>\n",
              "      <td>0.005000</td>\n",
              "      <td>3.000000</td>\n",
              "      <td>0.025000</td>\n",
              "      <td>2007.000000</td>\n",
              "    </tr>\n",
              "    <tr>\n",
              "      <th>25%</th>\n",
              "      <td>52.000000</td>\n",
              "      <td>1.790680</td>\n",
              "      <td>27.000000</td>\n",
              "      <td>32.447500</td>\n",
              "      <td>2008.000000</td>\n",
              "    </tr>\n",
              "    <tr>\n",
              "      <th>50%</th>\n",
              "      <td>64.000000</td>\n",
              "      <td>2.642353</td>\n",
              "      <td>45.000000</td>\n",
              "      <td>73.198612</td>\n",
              "      <td>2009.000000</td>\n",
              "    </tr>\n",
              "    <tr>\n",
              "      <th>75%</th>\n",
              "      <td>76.000000</td>\n",
              "      <td>4.850958</td>\n",
              "      <td>65.000000</td>\n",
              "      <td>190.185250</td>\n",
              "      <td>2010.000000</td>\n",
              "    </tr>\n",
              "    <tr>\n",
              "      <th>max</th>\n",
              "      <td>89.000000</td>\n",
              "      <td>66.934000</td>\n",
              "      <td>96.000000</td>\n",
              "      <td>709.820000</td>\n",
              "      <td>2011.000000</td>\n",
              "    </tr>\n",
              "  </tbody>\n",
              "</table>\n",
              "</div>\n",
              "      <button class=\"colab-df-convert\" onclick=\"convertToInteractive('df-74630d3d-83a2-438e-b39a-500fea73e3b5')\"\n",
              "              title=\"Convert this dataframe to an interactive table.\"\n",
              "              style=\"display:none;\">\n",
              "        \n",
              "  <svg xmlns=\"http://www.w3.org/2000/svg\" height=\"24px\"viewBox=\"0 0 24 24\"\n",
              "       width=\"24px\">\n",
              "    <path d=\"M0 0h24v24H0V0z\" fill=\"none\"/>\n",
              "    <path d=\"M18.56 5.44l.94 2.06.94-2.06 2.06-.94-2.06-.94-.94-2.06-.94 2.06-2.06.94zm-11 1L8.5 8.5l.94-2.06 2.06-.94-2.06-.94L8.5 2.5l-.94 2.06-2.06.94zm10 10l.94 2.06.94-2.06 2.06-.94-2.06-.94-.94-2.06-.94 2.06-2.06.94z\"/><path d=\"M17.41 7.96l-1.37-1.37c-.4-.4-.92-.59-1.43-.59-.52 0-1.04.2-1.43.59L10.3 9.45l-7.72 7.72c-.78.78-.78 2.05 0 2.83L4 21.41c.39.39.9.59 1.41.59.51 0 1.02-.2 1.41-.59l7.78-7.78 2.81-2.81c.8-.78.8-2.07 0-2.86zM5.41 20L4 18.59l7.72-7.72 1.47 1.35L5.41 20z\"/>\n",
              "  </svg>\n",
              "      </button>\n",
              "      \n",
              "  <style>\n",
              "    .colab-df-container {\n",
              "      display:flex;\n",
              "      flex-wrap:wrap;\n",
              "      gap: 12px;\n",
              "    }\n",
              "\n",
              "    .colab-df-convert {\n",
              "      background-color: #E8F0FE;\n",
              "      border: none;\n",
              "      border-radius: 50%;\n",
              "      cursor: pointer;\n",
              "      display: none;\n",
              "      fill: #1967D2;\n",
              "      height: 32px;\n",
              "      padding: 0 0 0 0;\n",
              "      width: 32px;\n",
              "    }\n",
              "\n",
              "    .colab-df-convert:hover {\n",
              "      background-color: #E2EBFA;\n",
              "      box-shadow: 0px 1px 2px rgba(60, 64, 67, 0.3), 0px 1px 3px 1px rgba(60, 64, 67, 0.15);\n",
              "      fill: #174EA6;\n",
              "    }\n",
              "\n",
              "    [theme=dark] .colab-df-convert {\n",
              "      background-color: #3B4455;\n",
              "      fill: #D2E3FC;\n",
              "    }\n",
              "\n",
              "    [theme=dark] .colab-df-convert:hover {\n",
              "      background-color: #434B5C;\n",
              "      box-shadow: 0px 1px 3px 1px rgba(0, 0, 0, 0.15);\n",
              "      filter: drop-shadow(0px 1px 2px rgba(0, 0, 0, 0.3));\n",
              "      fill: #FFFFFF;\n",
              "    }\n",
              "  </style>\n",
              "\n",
              "      <script>\n",
              "        const buttonEl =\n",
              "          document.querySelector('#df-74630d3d-83a2-438e-b39a-500fea73e3b5 button.colab-df-convert');\n",
              "        buttonEl.style.display =\n",
              "          google.colab.kernel.accessAllowed ? 'block' : 'none';\n",
              "\n",
              "        async function convertToInteractive(key) {\n",
              "          const element = document.querySelector('#df-74630d3d-83a2-438e-b39a-500fea73e3b5');\n",
              "          const dataTable =\n",
              "            await google.colab.kernel.invokeFunction('convertToInteractive',\n",
              "                                                     [key], {});\n",
              "          if (!dataTable) return;\n",
              "\n",
              "          const docLinkHtml = 'Like what you see? Visit the ' +\n",
              "            '<a target=\"_blank\" href=https://colab.research.google.com/notebooks/data_table.ipynb>data table notebook</a>'\n",
              "            + ' to learn more about interactive tables.';\n",
              "          element.innerHTML = '';\n",
              "          dataTable['output_type'] = 'display_data';\n",
              "          await google.colab.output.renderOutput(dataTable, element);\n",
              "          const docLink = document.createElement('div');\n",
              "          docLink.innerHTML = docLinkHtml;\n",
              "          element.appendChild(docLink);\n",
              "        }\n",
              "      </script>\n",
              "    </div>\n",
              "  </div>\n",
              "  "
            ]
          },
          "metadata": {},
          "execution_count": 141
        }
      ]
    },
    {
      "cell_type": "markdown",
      "source": [
        "### Checking for null values"
      ],
      "metadata": {
        "id": "cbEhYEBX4PkH"
      }
    },
    {
      "cell_type": "code",
      "source": [
        "df.isnull().sum()"
      ],
      "metadata": {
        "colab": {
          "base_uri": "https://localhost:8080/"
        },
        "id": "TBC_edCxw6K6",
        "outputId": "b586f9d2-9690-4d0f-c889-ae0b0cabf512"
      },
      "execution_count": 142,
      "outputs": [
        {
          "output_type": "execute_result",
          "data": {
            "text/plain": [
              "Film                 0\n",
              "Genre                0\n",
              "Lead Studio          1\n",
              "Audience  score %    1\n",
              "Profitability        3\n",
              "Rotten Tomatoes %    1\n",
              "Worldwide Gross      0\n",
              "Year                 0\n",
              "dtype: int64"
            ]
          },
          "metadata": {},
          "execution_count": 142
        }
      ]
    },
    {
      "cell_type": "code",
      "source": [
        "df = df.dropna()\n",
        "\n",
        "df.isnull().sum()"
      ],
      "metadata": {
        "colab": {
          "base_uri": "https://localhost:8080/"
        },
        "id": "J7b_ouUPyoG-",
        "outputId": "46caff39-97aa-4cb0-8408-3359a4572c09"
      },
      "execution_count": 143,
      "outputs": [
        {
          "output_type": "execute_result",
          "data": {
            "text/plain": [
              "Film                 0\n",
              "Genre                0\n",
              "Lead Studio          0\n",
              "Audience  score %    0\n",
              "Profitability        0\n",
              "Rotten Tomatoes %    0\n",
              "Worldwide Gross      0\n",
              "Year                 0\n",
              "dtype: int64"
            ]
          },
          "metadata": {},
          "execution_count": 143
        }
      ]
    },
    {
      "cell_type": "markdown",
      "source": [
        "## EDA"
      ],
      "metadata": {
        "id": "B36fJ87d4Wqy"
      }
    },
    {
      "cell_type": "code",
      "source": [
        "sns.distplot(x = df['Audience  score %'] , hist = True , color = 'black')\n",
        "plt.title('Distribition of Audience Score')"
      ],
      "metadata": {
        "colab": {
          "base_uri": "https://localhost:8080/",
          "height": 470
        },
        "id": "kjSIy1FFyyjy",
        "outputId": "e12490ae-dda3-4e53-d735-b9b536ed703a"
      },
      "execution_count": 144,
      "outputs": [
        {
          "output_type": "execute_result",
          "data": {
            "text/plain": [
              "Text(0.5, 1.0, 'Distribition of Audience Score')"
            ]
          },
          "metadata": {},
          "execution_count": 144
        },
        {
          "output_type": "display_data",
          "data": {
            "text/plain": [
              "<Figure size 640x480 with 1 Axes>"
            ],
            "image/png": "[encoded data removed]"
          },
          "metadata": {}
        }
      ]
    },
    {
      "cell_type": "code",
      "source": [
        "sns.distplot( x = df['Profitability'] , hist = True)\n",
        "plt.title('Distribition of Profitability')"
      ],
      "metadata": {
        "colab": {
          "base_uri": "https://localhost:8080/",
          "height": 470
        },
        "id": "k4n2WlAMzlj0",
        "outputId": "7f0cba08-f724-4381-bbf9-4d7abdbd6275"
      },
      "execution_count": 145,
      "outputs": [
        {
          "output_type": "execute_result",
          "data": {
            "text/plain": [
              "Text(0.5, 1.0, 'Distribition of Profitability')"
            ]
          },
          "metadata": {},
          "execution_count": 145
        },
        {
          "output_type": "display_data",
          "data": {
            "text/plain": [
              "<Figure size 640x480 with 1 Axes>"
            ],
            "image/png": "[encoded data removed]"
          },
          "metadata": {}
        }
      ]
    },
    {
      "cell_type": "code",
      "source": [
        "sns.barplot( x = df['Year'] , y = df['Worldwide Gross'] )\n",
        "plt.title('Worldwide Gross over Years ')"
      ],
      "metadata": {
        "colab": {
          "base_uri": "https://localhost:8080/",
          "height": 490
        },
        "id": "H3Xt3sxA0JX5",
        "outputId": "04eceffd-7715-4e3a-d458-3b642bf0a1db"
      },
      "execution_count": 146,
      "outputs": [
        {
          "output_type": "execute_result",
          "data": {
            "text/plain": [
              "Text(0.5, 1.0, 'Worldwide Gross over Years ')"
            ]
          },
          "metadata": {},
          "execution_count": 146
        },
        {
          "output_type": "display_data",
          "data": {
            "text/plain": [
              "<Figure size 640x480 with 1 Axes>"
            ],
            "image/png": "[encoded data removed]"
          },
          "metadata": {}
        }
      ]
    },
    {
      "cell_type": "code",
      "source": [
        "sns.barplot( x = df['Genre'] , y = df['Profitability'])\n",
        "plt.title('Profitability over Genre')"
      ],
      "metadata": {
        "colab": {
          "base_uri": "https://localhost:8080/",
          "height": 490
        },
        "id": "bYjDgxS00f9X",
        "outputId": "33628864-9cd4-431d-eb8d-0b205b728a48"
      },
      "execution_count": 147,
      "outputs": [
        {
          "output_type": "execute_result",
          "data": {
            "text/plain": [
              "Text(0.5, 1.0, 'Profitability over Genre')"
            ]
          },
          "metadata": {},
          "execution_count": 147
        },
        {
          "output_type": "display_data",
          "data": {
            "text/plain": [
              "<Figure size 640x480 with 1 Axes>"
            ],
            "image/png": "[encoded data removed]"
          },
          "metadata": {}
        }
      ]
    },
    {
      "cell_type": "code",
      "source": [
        "mdf = df[['Film', 'Profitability' , 'Worldwide Gross']]\n",
        "\n",
        "mdf = mdf.groupby('Film').agg({'Profitability' : np.sum , 'Worldwide Gross' : np.sum })\n",
        "mdf = mdf.sort_values( by = 'Profitability' , ascending = False )\n",
        "\n",
        "mdf"
      ],
      "metadata": {
        "colab": {
          "base_uri": "https://localhost:8080/",
          "height": 455
        },
        "id": "q3c9GTZj04jC",
        "outputId": "ad369b72-d8a5-4d2c-fc17-35c990c0b47d"
      },
      "execution_count": 148,
      "outputs": [
        {
          "output_type": "execute_result",
          "data": {
            "text/plain": [
              "                                    Profitability  Worldwide Gross\n",
              "Film                                                              \n",
              "Fireproof                               66.934000        33.467000\n",
              "High School Musical 3: Senior Year      22.913136       252.044501\n",
              "The Twilight Saga: New Moon             14.196400       709.820000\n",
              "Waitress                                11.089742        22.179483\n",
              "Twilight                                10.180027       376.661000\n",
              "...                                           ...              ...\n",
              "My Week with Marilyn                     0.825800         8.258000\n",
              "Across the Universe                      0.652603        29.367143\n",
              "A Dangerous Method                       0.448645         8.972895\n",
              "Miss Pettigrew Lives for a Day           0.252895        15.173694\n",
              "Waiting For Forever                      0.005000         0.025000\n",
              "\n",
              "[69 rows x 2 columns]"
            ],
            "text/html": [
              "\n",
              "  <div id=\"df-45f30e88-fd5b-4ce4-920a-9885f5095fc9\">\n",
              "    <div class=\"colab-df-container\">\n",
              "      <div>\n",
              "<style scoped>\n",
              "    .dataframe tbody tr th:only-of-type {\n",
              "        vertical-align: middle;\n",
              "    }\n",
              "\n",
              "    .dataframe tbody tr th {\n",
              "        vertical-align: top;\n",
              "    }\n",
              "\n",
              "    .dataframe thead th {\n",
              "        text-align: right;\n",
              "    }\n",
              "</style>\n",
              "<table border=\"1\" class=\"dataframe\">\n",
              "  <thead>\n",
              "    <tr style=\"text-align: right;\">\n",
              "      <th></th>\n",
              "      <th>Profitability</th>\n",
              "      <th>Worldwide Gross</th>\n",
              "    </tr>\n",
              "    <tr>\n",
              "      <th>Film</th>\n",
              "      <th></th>\n",
              "      <th></th>\n",
              "    </tr>\n",
              "  </thead>\n",
              "  <tbody>\n",
              "    <tr>\n",
              "      <th>Fireproof</th>\n",
              "      <td>66.934000</td>\n",
              "      <td>33.467000</td>\n",
              "    </tr>\n",
              "    <tr>\n",
              "      <th>High School Musical 3: Senior Year</th>\n",
              "      <td>22.913136</td>\n",
              "      <td>252.044501</td>\n",
              "    </tr>\n",
              "    <tr>\n",
              "      <th>The Twilight Saga: New Moon</th>\n",
              "      <td>14.196400</td>\n",
              "      <td>709.820000</td>\n",
              "    </tr>\n",
              "    <tr>\n",
              "      <th>Waitress</th>\n",
              "      <td>11.089742</td>\n",
              "      <td>22.179483</td>\n",
              "    </tr>\n",
              "    <tr>\n",
              "      <th>Twilight</th>\n",
              "      <td>10.180027</td>\n",
              "      <td>376.661000</td>\n",
              "    </tr>\n",
              "    <tr>\n",
              "      <th>...</th>\n",
              "      <td>...</td>\n",
              "      <td>...</td>\n",
              "    </tr>\n",
              "    <tr>\n",
              "      <th>My Week with Marilyn</th>\n",
              "      <td>0.825800</td>\n",
              "      <td>8.258000</td>\n",
              "    </tr>\n",
              "    <tr>\n",
              "      <th>Across the Universe</th>\n",
              "      <td>0.652603</td>\n",
              "      <td>29.367143</td>\n",
              "    </tr>\n",
              "    <tr>\n",
              "      <th>A Dangerous Method</th>\n",
              "      <td>0.448645</td>\n",
              "      <td>8.972895</td>\n",
              "    </tr>\n",
              "    <tr>\n",
              "      <th>Miss Pettigrew Lives for a Day</th>\n",
              "      <td>0.252895</td>\n",
              "      <td>15.173694</td>\n",
              "    </tr>\n",
              "    <tr>\n",
              "      <th>Waiting For Forever</th>\n",
              "      <td>0.005000</td>\n",
              "      <td>0.025000</td>\n",
              "    </tr>\n",
              "  </tbody>\n",
              "</table>\n",
              "<p>69 rows × 2 columns</p>\n",
              "</div>\n",
              "      <button class=\"colab-df-convert\" onclick=\"convertToInteractive('df-45f30e88-fd5b-4ce4-920a-9885f5095fc9')\"\n",
              "              title=\"Convert this dataframe to an interactive table.\"\n",
              "              style=\"display:none;\">\n",
              "        \n",
              "  <svg xmlns=\"http://www.w3.org/2000/svg\" height=\"24px\"viewBox=\"0 0 24 24\"\n",
              "       width=\"24px\">\n",
              "    <path d=\"M0 0h24v24H0V0z\" fill=\"none\"/>\n",
              "    <path d=\"M18.56 5.44l.94 2.06.94-2.06 2.06-.94-2.06-.94-.94-2.06-.94 2.06-2.06.94zm-11 1L8.5 8.5l.94-2.06 2.06-.94-2.06-.94L8.5 2.5l-.94 2.06-2.06.94zm10 10l.94 2.06.94-2.06 2.06-.94-2.06-.94-.94-2.06-.94 2.06-2.06.94z\"/><path d=\"M17.41 7.96l-1.37-1.37c-.4-.4-.92-.59-1.43-.59-.52 0-1.04.2-1.43.59L10.3 9.45l-7.72 7.72c-.78.78-.78 2.05 0 2.83L4 21.41c.39.39.9.59 1.41.59.51 0 1.02-.2 1.41-.59l7.78-7.78 2.81-2.81c.8-.78.8-2.07 0-2.86zM5.41 20L4 18.59l7.72-7.72 1.47 1.35L5.41 20z\"/>\n",
              "  </svg>\n",
              "      </button>\n",
              "      \n",
              "  <style>\n",
              "    .colab-df-container {\n",
              "      display:flex;\n",
              "      flex-wrap:wrap;\n",
              "      gap: 12px;\n",
              "    }\n",
              "\n",
              "    .colab-df-convert {\n",
              "      background-color: #E8F0FE;\n",
              "      border: none;\n",
              "      border-radius: 50%;\n",
              "      cursor: pointer;\n",
              "      display: none;\n",
              "      fill: #1967D2;\n",
              "      height: 32px;\n",
              "      padding: 0 0 0 0;\n",
              "      width: 32px;\n",
              "    }\n",
              "\n",
              "    .colab-df-convert:hover {\n",
              "      background-color: #E2EBFA;\n",
              "      box-shadow: 0px 1px 2px rgba(60, 64, 67, 0.3), 0px 1px 3px 1px rgba(60, 64, 67, 0.15);\n",
              "      fill: #174EA6;\n",
              "    }\n",
              "\n",
              "    [theme=dark] .colab-df-convert {\n",
              "      background-color: #3B4455;\n",
              "      fill: #D2E3FC;\n",
              "    }\n",
              "\n",
              "    [theme=dark] .colab-df-convert:hover {\n",
              "      background-color: #434B5C;\n",
              "      box-shadow: 0px 1px 3px 1px rgba(0, 0, 0, 0.15);\n",
              "      filter: drop-shadow(0px 1px 2px rgba(0, 0, 0, 0.3));\n",
              "      fill: #FFFFFF;\n",
              "    }\n",
              "  </style>\n",
              "\n",
              "      <script>\n",
              "        const buttonEl =\n",
              "          document.querySelector('#df-45f30e88-fd5b-4ce4-920a-9885f5095fc9 button.colab-df-convert');\n",
              "        buttonEl.style.display =\n",
              "          google.colab.kernel.accessAllowed ? 'block' : 'none';\n",
              "\n",
              "        async function convertToInteractive(key) {\n",
              "          const element = document.querySelector('#df-45f30e88-fd5b-4ce4-920a-9885f5095fc9');\n",
              "          const dataTable =\n",
              "            await google.colab.kernel.invokeFunction('convertToInteractive',\n",
              "                                                     [key], {});\n",
              "          if (!dataTable) return;\n",
              "\n",
              "          const docLinkHtml = 'Like what you see? Visit the ' +\n",
              "            '<a target=\"_blank\" href=https://colab.research.google.com/notebooks/data_table.ipynb>data table notebook</a>'\n",
              "            + ' to learn more about interactive tables.';\n",
              "          element.innerHTML = '';\n",
              "          dataTable['output_type'] = 'display_data';\n",
              "          await google.colab.output.renderOutput(dataTable, element);\n",
              "          const docLink = document.createElement('div');\n",
              "          docLink.innerHTML = docLinkHtml;\n",
              "          element.appendChild(docLink);\n",
              "        }\n",
              "      </script>\n",
              "    </div>\n",
              "  </div>\n",
              "  "
            ]
          },
          "metadata": {},
          "execution_count": 148
        }
      ]
    },
    {
      "cell_type": "code",
      "source": [
        "# no of films over gener \n",
        "\n",
        "gdf = df[[ 'Genre' ,'Film' ]]\n",
        "\n",
        "gdf = gdf.groupby('Genre').count()\n",
        "gdf = gdf.sort_values( by = 'Film' , ascending = False)\n",
        "\n",
        "gdf\n"
      ],
      "metadata": {
        "colab": {
          "base_uri": "https://localhost:8080/",
          "height": 269
        },
        "id": "_VS46opUXd2I",
        "outputId": "2533f306-c8fa-4da0-f5d2-1ece7d9d9c5e"
      },
      "execution_count": 149,
      "outputs": [
        {
          "output_type": "execute_result",
          "data": {
            "text/plain": [
              "           Film\n",
              "Genre          \n",
              "Comedy       38\n",
              "Drama        13\n",
              "Romance      13\n",
              "Animation     3\n",
              "Action        1\n",
              "Fantasy       1"
            ],
            "text/html": [
              "\n",
              "  <div id=\"df-3fb9eaf9-f833-4b48-8042-2fd69f3e5c1e\">\n",
              "    <div class=\"colab-df-container\">\n",
              "      <div>\n",
              "<style scoped>\n",
              "    .dataframe tbody tr th:only-of-type {\n",
              "        vertical-align: middle;\n",
              "    }\n",
              "\n",
              "    .dataframe tbody tr th {\n",
              "        vertical-align: top;\n",
              "    }\n",
              "\n",
              "    .dataframe thead th {\n",
              "        text-align: right;\n",
              "    }\n",
              "</style>\n",
              "<table border=\"1\" class=\"dataframe\">\n",
              "  <thead>\n",
              "    <tr style=\"text-align: right;\">\n",
              "      <th></th>\n",
              "      <th>Film</th>\n",
              "    </tr>\n",
              "    <tr>\n",
              "      <th>Genre</th>\n",
              "      <th></th>\n",
              "    </tr>\n",
              "  </thead>\n",
              "  <tbody>\n",
              "    <tr>\n",
              "      <th>Comedy</th>\n",
              "      <td>38</td>\n",
              "    </tr>\n",
              "    <tr>\n",
              "      <th>Drama</th>\n",
              "      <td>13</td>\n",
              "    </tr>\n",
              "    <tr>\n",
              "      <th>Romance</th>\n",
              "      <td>13</td>\n",
              "    </tr>\n",
              "    <tr>\n",
              "      <th>Animation</th>\n",
              "      <td>3</td>\n",
              "    </tr>\n",
              "    <tr>\n",
              "      <th>Action</th>\n",
              "      <td>1</td>\n",
              "    </tr>\n",
              "    <tr>\n",
              "      <th>Fantasy</th>\n",
              "      <td>1</td>\n",
              "    </tr>\n",
              "  </tbody>\n",
              "</table>\n",
              "</div>\n",
              "      <button class=\"colab-df-convert\" onclick=\"convertToInteractive('df-3fb9eaf9-f833-4b48-8042-2fd69f3e5c1e')\"\n",
              "              title=\"Convert this dataframe to an interactive table.\"\n",
              "              style=\"display:none;\">\n",
              "        \n",
              "  <svg xmlns=\"http://www.w3.org/2000/svg\" height=\"24px\"viewBox=\"0 0 24 24\"\n",
              "       width=\"24px\">\n",
              "    <path d=\"M0 0h24v24H0V0z\" fill=\"none\"/>\n",
              "    <path d=\"M18.56 5.44l.94 2.06.94-2.06 2.06-.94-2.06-.94-.94-2.06-.94 2.06-2.06.94zm-11 1L8.5 8.5l.94-2.06 2.06-.94-2.06-.94L8.5 2.5l-.94 2.06-2.06.94zm10 10l.94 2.06.94-2.06 2.06-.94-2.06-.94-.94-2.06-.94 2.06-2.06.94z\"/><path d=\"M17.41 7.96l-1.37-1.37c-.4-.4-.92-.59-1.43-.59-.52 0-1.04.2-1.43.59L10.3 9.45l-7.72 7.72c-.78.78-.78 2.05 0 2.83L4 21.41c.39.39.9.59 1.41.59.51 0 1.02-.2 1.41-.59l7.78-7.78 2.81-2.81c.8-.78.8-2.07 0-2.86zM5.41 20L4 18.59l7.72-7.72 1.47 1.35L5.41 20z\"/>\n",
              "  </svg>\n",
              "      </button>\n",
              "      \n",
              "  <style>\n",
              "    .colab-df-container {\n",
              "      display:flex;\n",
              "      flex-wrap:wrap;\n",
              "      gap: 12px;\n",
              "    }\n",
              "\n",
              "    .colab-df-convert {\n",
              "      background-color: #E8F0FE;\n",
              "      border: none;\n",
              "      border-radius: 50%;\n",
              "      cursor: pointer;\n",
              "      display: none;\n",
              "      fill: #1967D2;\n",
              "      height: 32px;\n",
              "      padding: 0 0 0 0;\n",
              "      width: 32px;\n",
              "    }\n",
              "\n",
              "    .colab-df-convert:hover {\n",
              "      background-color: #E2EBFA;\n",
              "      box-shadow: 0px 1px 2px rgba(60, 64, 67, 0.3), 0px 1px 3px 1px rgba(60, 64, 67, 0.15);\n",
              "      fill: #174EA6;\n",
              "    }\n",
              "\n",
              "    [theme=dark] .colab-df-convert {\n",
              "      background-color: #3B4455;\n",
              "      fill: #D2E3FC;\n",
              "    }\n",
              "\n",
              "    [theme=dark] .colab-df-convert:hover {\n",
              "      background-color: #434B5C;\n",
              "      box-shadow: 0px 1px 3px 1px rgba(0, 0, 0, 0.15);\n",
              "      filter: drop-shadow(0px 1px 2px rgba(0, 0, 0, 0.3));\n",
              "      fill: #FFFFFF;\n",
              "    }\n",
              "  </style>\n",
              "\n",
              "      <script>\n",
              "        const buttonEl =\n",
              "          document.querySelector('#df-3fb9eaf9-f833-4b48-8042-2fd69f3e5c1e button.colab-df-convert');\n",
              "        buttonEl.style.display =\n",
              "          google.colab.kernel.accessAllowed ? 'block' : 'none';\n",
              "\n",
              "        async function convertToInteractive(key) {\n",
              "          const element = document.querySelector('#df-3fb9eaf9-f833-4b48-8042-2fd69f3e5c1e');\n",
              "          const dataTable =\n",
              "            await google.colab.kernel.invokeFunction('convertToInteractive',\n",
              "                                                     [key], {});\n",
              "          if (!dataTable) return;\n",
              "\n",
              "          const docLinkHtml = 'Like what you see? Visit the ' +\n",
              "            '<a target=\"_blank\" href=https://colab.research.google.com/notebooks/data_table.ipynb>data table notebook</a>'\n",
              "            + ' to learn more about interactive tables.';\n",
              "          element.innerHTML = '';\n",
              "          dataTable['output_type'] = 'display_data';\n",
              "          await google.colab.output.renderOutput(dataTable, element);\n",
              "          const docLink = document.createElement('div');\n",
              "          docLink.innerHTML = docLinkHtml;\n",
              "          element.appendChild(docLink);\n",
              "        }\n",
              "      </script>\n",
              "    </div>\n",
              "  </div>\n",
              "  "
            ]
          },
          "metadata": {},
          "execution_count": 149
        }
      ]
    },
    {
      "cell_type": "code",
      "source": [
        "sdf = df[['Lead Studio', 'Profitability' , 'Worldwide Gross']]\n",
        "\n",
        "sdf = sdf.groupby('Lead Studio').agg({'Profitability' : np.sum , \n",
        "                                      'Worldwide Gross' : np.sum })\n",
        "sdf = sdf.sort_values( by = 'Profitability' , ascending = False )\n",
        "\n",
        "sdf"
      ],
      "metadata": {
        "colab": {
          "base_uri": "https://localhost:8080/",
          "height": 488
        },
        "id": "3qyWcmUQZGKq",
        "outputId": "a66ba78d-b154-4f7d-86b3-bc54cb2aed4b"
      },
      "execution_count": 150,
      "outputs": [
        {
          "output_type": "execute_result",
          "data": {
            "text/plain": [
              "                       Profitability  Worldwide Gross\n",
              "Lead Studio                                          \n",
              "Independent               116.757308      1465.392606\n",
              "Disney                     44.436057      1977.562585\n",
              "Warner Bros.               38.523662      2081.191904\n",
              "Summit                     31.889810      1242.262996\n",
              "Fox                        27.069134       722.568300\n",
              "Universal                  26.615773      1152.425216\n",
              "Sony                       19.345304       403.120027\n",
              "Paramount                  10.376000       321.212628\n",
              "20th Century Fox            5.064621       156.758000\n",
              "The Weinstein Company       3.663342        69.819000\n",
              "Lionsgate                   3.613018       152.592128\n",
              "CBS                         2.202571        77.090000\n",
              "New Line                    2.071000        20.710000"
            ],
            "text/html": [
              "\n",
              "  <div id=\"df-06ffb43b-ab1b-4167-a948-dd77106386ec\">\n",
              "    <div class=\"colab-df-container\">\n",
              "      <div>\n",
              "<style scoped>\n",
              "    .dataframe tbody tr th:only-of-type {\n",
              "        vertical-align: middle;\n",
              "    }\n",
              "\n",
              "    .dataframe tbody tr th {\n",
              "        vertical-align: top;\n",
              "    }\n",
              "\n",
              "    .dataframe thead th {\n",
              "        text-align: right;\n",
              "    }\n",
              "</style>\n",
              "<table border=\"1\" class=\"dataframe\">\n",
              "  <thead>\n",
              "    <tr style=\"text-align: right;\">\n",
              "      <th></th>\n",
              "      <th>Profitability</th>\n",
              "      <th>Worldwide Gross</th>\n",
              "    </tr>\n",
              "    <tr>\n",
              "      <th>Lead Studio</th>\n",
              "      <th></th>\n",
              "      <th></th>\n",
              "    </tr>\n",
              "  </thead>\n",
              "  <tbody>\n",
              "    <tr>\n",
              "      <th>Independent</th>\n",
              "      <td>116.757308</td>\n",
              "      <td>1465.392606</td>\n",
              "    </tr>\n",
              "    <tr>\n",
              "      <th>Disney</th>\n",
              "      <td>44.436057</td>\n",
              "      <td>1977.562585</td>\n",
              "    </tr>\n",
              "    <tr>\n",
              "      <th>Warner Bros.</th>\n",
              "      <td>38.523662</td>\n",
              "      <td>2081.191904</td>\n",
              "    </tr>\n",
              "    <tr>\n",
              "      <th>Summit</th>\n",
              "      <td>31.889810</td>\n",
              "      <td>1242.262996</td>\n",
              "    </tr>\n",
              "    <tr>\n",
              "      <th>Fox</th>\n",
              "      <td>27.069134</td>\n",
              "      <td>722.568300</td>\n",
              "    </tr>\n",
              "    <tr>\n",
              "      <th>Universal</th>\n",
              "      <td>26.615773</td>\n",
              "      <td>1152.425216</td>\n",
              "    </tr>\n",
              "    <tr>\n",
              "      <th>Sony</th>\n",
              "      <td>19.345304</td>\n",
              "      <td>403.120027</td>\n",
              "    </tr>\n",
              "    <tr>\n",
              "      <th>Paramount</th>\n",
              "      <td>10.376000</td>\n",
              "      <td>321.212628</td>\n",
              "    </tr>\n",
              "    <tr>\n",
              "      <th>20th Century Fox</th>\n",
              "      <td>5.064621</td>\n",
              "      <td>156.758000</td>\n",
              "    </tr>\n",
              "    <tr>\n",
              "      <th>The Weinstein Company</th>\n",
              "      <td>3.663342</td>\n",
              "      <td>69.819000</td>\n",
              "    </tr>\n",
              "    <tr>\n",
              "      <th>Lionsgate</th>\n",
              "      <td>3.613018</td>\n",
              "      <td>152.592128</td>\n",
              "    </tr>\n",
              "    <tr>\n",
              "      <th>CBS</th>\n",
              "      <td>2.202571</td>\n",
              "      <td>77.090000</td>\n",
              "    </tr>\n",
              "    <tr>\n",
              "      <th>New Line</th>\n",
              "      <td>2.071000</td>\n",
              "      <td>20.710000</td>\n",
              "    </tr>\n",
              "  </tbody>\n",
              "</table>\n",
              "</div>\n",
              "      <button class=\"colab-df-convert\" onclick=\"convertToInteractive('df-06ffb43b-ab1b-4167-a948-dd77106386ec')\"\n",
              "              title=\"Convert this dataframe to an interactive table.\"\n",
              "              style=\"display:none;\">\n",
              "        \n",
              "  <svg xmlns=\"http://www.w3.org/2000/svg\" height=\"24px\"viewBox=\"0 0 24 24\"\n",
              "       width=\"24px\">\n",
              "    <path d=\"M0 0h24v24H0V0z\" fill=\"none\"/>\n",
              "    <path d=\"M18.56 5.44l.94 2.06.94-2.06 2.06-.94-2.06-.94-.94-2.06-.94 2.06-2.06.94zm-11 1L8.5 8.5l.94-2.06 2.06-.94-2.06-.94L8.5 2.5l-.94 2.06-2.06.94zm10 10l.94 2.06.94-2.06 2.06-.94-2.06-.94-.94-2.06-.94 2.06-2.06.94z\"/><path d=\"M17.41 7.96l-1.37-1.37c-.4-.4-.92-.59-1.43-.59-.52 0-1.04.2-1.43.59L10.3 9.45l-7.72 7.72c-.78.78-.78 2.05 0 2.83L4 21.41c.39.39.9.59 1.41.59.51 0 1.02-.2 1.41-.59l7.78-7.78 2.81-2.81c.8-.78.8-2.07 0-2.86zM5.41 20L4 18.59l7.72-7.72 1.47 1.35L5.41 20z\"/>\n",
              "  </svg>\n",
              "      </button>\n",
              "      \n",
              "  <style>\n",
              "    .colab-df-container {\n",
              "      display:flex;\n",
              "      flex-wrap:wrap;\n",
              "      gap: 12px;\n",
              "    }\n",
              "\n",
              "    .colab-df-convert {\n",
              "      background-color: #E8F0FE;\n",
              "      border: none;\n",
              "      border-radius: 50%;\n",
              "      cursor: pointer;\n",
              "      display: none;\n",
              "      fill: #1967D2;\n",
              "      height: 32px;\n",
              "      padding: 0 0 0 0;\n",
              "      width: 32px;\n",
              "    }\n",
              "\n",
              "    .colab-df-convert:hover {\n",
              "      background-color: #E2EBFA;\n",
              "      box-shadow: 0px 1px 2px rgba(60, 64, 67, 0.3), 0px 1px 3px 1px rgba(60, 64, 67, 0.15);\n",
              "      fill: #174EA6;\n",
              "    }\n",
              "\n",
              "    [theme=dark] .colab-df-convert {\n",
              "      background-color: #3B4455;\n",
              "      fill: #D2E3FC;\n",
              "    }\n",
              "\n",
              "    [theme=dark] .colab-df-convert:hover {\n",
              "      background-color: #434B5C;\n",
              "      box-shadow: 0px 1px 3px 1px rgba(0, 0, 0, 0.15);\n",
              "      filter: drop-shadow(0px 1px 2px rgba(0, 0, 0, 0.3));\n",
              "      fill: #FFFFFF;\n",
              "    }\n",
              "  </style>\n",
              "\n",
              "      <script>\n",
              "        const buttonEl =\n",
              "          document.querySelector('#df-06ffb43b-ab1b-4167-a948-dd77106386ec button.colab-df-convert');\n",
              "        buttonEl.style.display =\n",
              "          google.colab.kernel.accessAllowed ? 'block' : 'none';\n",
              "\n",
              "        async function convertToInteractive(key) {\n",
              "          const element = document.querySelector('#df-06ffb43b-ab1b-4167-a948-dd77106386ec');\n",
              "          const dataTable =\n",
              "            await google.colab.kernel.invokeFunction('convertToInteractive',\n",
              "                                                     [key], {});\n",
              "          if (!dataTable) return;\n",
              "\n",
              "          const docLinkHtml = 'Like what you see? Visit the ' +\n",
              "            '<a target=\"_blank\" href=https://colab.research.google.com/notebooks/data_table.ipynb>data table notebook</a>'\n",
              "            + ' to learn more about interactive tables.';\n",
              "          element.innerHTML = '';\n",
              "          dataTable['output_type'] = 'display_data';\n",
              "          await google.colab.output.renderOutput(dataTable, element);\n",
              "          const docLink = document.createElement('div');\n",
              "          docLink.innerHTML = docLinkHtml;\n",
              "          element.appendChild(docLink);\n",
              "        }\n",
              "      </script>\n",
              "    </div>\n",
              "  </div>\n",
              "  "
            ]
          },
          "metadata": {},
          "execution_count": 150
        }
      ]
    },
    {
      "cell_type": "code",
      "source": [
        "lsdf = df[[ 'Lead Studio' ,'Film' ]]\n",
        "\n",
        "lsdf = lsdf.groupby('Lead Studio').count()\n",
        "lsdf = lsdf.sort_values( by = 'Film' , ascending = False)\n",
        "\n",
        "lsdf"
      ],
      "metadata": {
        "colab": {
          "base_uri": "https://localhost:8080/",
          "height": 488
        },
        "id": "-CkQFLW2cLSO",
        "outputId": "68617d3f-0a6a-488e-e98a-53509b718d3c"
      },
      "execution_count": 151,
      "outputs": [
        {
          "output_type": "execute_result",
          "data": {
            "text/plain": [
              "                       Film\n",
              "Lead Studio                \n",
              "Independent              17\n",
              "Warner Bros.             12\n",
              "Disney                    6\n",
              "Fox                       6\n",
              "Universal                 6\n",
              "Summit                    5\n",
              "Paramount                 4\n",
              "Sony                      4\n",
              "The Weinstein Company     3\n",
              "20th Century Fox          2\n",
              "Lionsgate                 2\n",
              "CBS                       1\n",
              "New Line                  1"
            ],
            "text/html": [
              "\n",
              "  <div id=\"df-c3fa05bc-28ec-4835-a1a2-d086684fcedd\">\n",
              "    <div class=\"colab-df-container\">\n",
              "      <div>\n",
              "<style scoped>\n",
              "    .dataframe tbody tr th:only-of-type {\n",
              "        vertical-align: middle;\n",
              "    }\n",
              "\n",
              "    .dataframe tbody tr th {\n",
              "        vertical-align: top;\n",
              "    }\n",
              "\n",
              "    .dataframe thead th {\n",
              "        text-align: right;\n",
              "    }\n",
              "</style>\n",
              "<table border=\"1\" class=\"dataframe\">\n",
              "  <thead>\n",
              "    <tr style=\"text-align: right;\">\n",
              "      <th></th>\n",
              "      <th>Film</th>\n",
              "    </tr>\n",
              "    <tr>\n",
              "      <th>Lead Studio</th>\n",
              "      <th></th>\n",
              "    </tr>\n",
              "  </thead>\n",
              "  <tbody>\n",
              "    <tr>\n",
              "      <th>Independent</th>\n",
              "      <td>17</td>\n",
              "    </tr>\n",
              "    <tr>\n",
              "      <th>Warner Bros.</th>\n",
              "      <td>12</td>\n",
              "    </tr>\n",
              "    <tr>\n",
              "      <th>Disney</th>\n",
              "      <td>6</td>\n",
              "    </tr>\n",
              "    <tr>\n",
              "      <th>Fox</th>\n",
              "      <td>6</td>\n",
              "    </tr>\n",
              "    <tr>\n",
              "      <th>Universal</th>\n",
              "      <td>6</td>\n",
              "    </tr>\n",
              "    <tr>\n",
              "      <th>Summit</th>\n",
              "      <td>5</td>\n",
              "    </tr>\n",
              "    <tr>\n",
              "      <th>Paramount</th>\n",
              "      <td>4</td>\n",
              "    </tr>\n",
              "    <tr>\n",
              "      <th>Sony</th>\n",
              "      <td>4</td>\n",
              "    </tr>\n",
              "    <tr>\n",
              "      <th>The Weinstein Company</th>\n",
              "      <td>3</td>\n",
              "    </tr>\n",
              "    <tr>\n",
              "      <th>20th Century Fox</th>\n",
              "      <td>2</td>\n",
              "    </tr>\n",
              "    <tr>\n",
              "      <th>Lionsgate</th>\n",
              "      <td>2</td>\n",
              "    </tr>\n",
              "    <tr>\n",
              "      <th>CBS</th>\n",
              "      <td>1</td>\n",
              "    </tr>\n",
              "    <tr>\n",
              "      <th>New Line</th>\n",
              "      <td>1</td>\n",
              "    </tr>\n",
              "  </tbody>\n",
              "</table>\n",
              "</div>\n",
              "      <button class=\"colab-df-convert\" onclick=\"convertToInteractive('df-c3fa05bc-28ec-4835-a1a2-d086684fcedd')\"\n",
              "              title=\"Convert this dataframe to an interactive table.\"\n",
              "              style=\"display:none;\">\n",
              "        \n",
              "  <svg xmlns=\"http://www.w3.org/2000/svg\" height=\"24px\"viewBox=\"0 0 24 24\"\n",
              "       width=\"24px\">\n",
              "    <path d=\"M0 0h24v24H0V0z\" fill=\"none\"/>\n",
              "    <path d=\"M18.56 5.44l.94 2.06.94-2.06 2.06-.94-2.06-.94-.94-2.06-.94 2.06-2.06.94zm-11 1L8.5 8.5l.94-2.06 2.06-.94-2.06-.94L8.5 2.5l-.94 2.06-2.06.94zm10 10l.94 2.06.94-2.06 2.06-.94-2.06-.94-.94-2.06-.94 2.06-2.06.94z\"/><path d=\"M17.41 7.96l-1.37-1.37c-.4-.4-.92-.59-1.43-.59-.52 0-1.04.2-1.43.59L10.3 9.45l-7.72 7.72c-.78.78-.78 2.05 0 2.83L4 21.41c.39.39.9.59 1.41.59.51 0 1.02-.2 1.41-.59l7.78-7.78 2.81-2.81c.8-.78.8-2.07 0-2.86zM5.41 20L4 18.59l7.72-7.72 1.47 1.35L5.41 20z\"/>\n",
              "  </svg>\n",
              "      </button>\n",
              "      \n",
              "  <style>\n",
              "    .colab-df-container {\n",
              "      display:flex;\n",
              "      flex-wrap:wrap;\n",
              "      gap: 12px;\n",
              "    }\n",
              "\n",
              "    .colab-df-convert {\n",
              "      background-color: #E8F0FE;\n",
              "      border: none;\n",
              "      border-radius: 50%;\n",
              "      cursor: pointer;\n",
              "      display: none;\n",
              "      fill: #1967D2;\n",
              "      height: 32px;\n",
              "      padding: 0 0 0 0;\n",
              "      width: 32px;\n",
              "    }\n",
              "\n",
              "    .colab-df-convert:hover {\n",
              "      background-color: #E2EBFA;\n",
              "      box-shadow: 0px 1px 2px rgba(60, 64, 67, 0.3), 0px 1px 3px 1px rgba(60, 64, 67, 0.15);\n",
              "      fill: #174EA6;\n",
              "    }\n",
              "\n",
              "    [theme=dark] .colab-df-convert {\n",
              "      background-color: #3B4455;\n",
              "      fill: #D2E3FC;\n",
              "    }\n",
              "\n",
              "    [theme=dark] .colab-df-convert:hover {\n",
              "      background-color: #434B5C;\n",
              "      box-shadow: 0px 1px 3px 1px rgba(0, 0, 0, 0.15);\n",
              "      filter: drop-shadow(0px 1px 2px rgba(0, 0, 0, 0.3));\n",
              "      fill: #FFFFFF;\n",
              "    }\n",
              "  </style>\n",
              "\n",
              "      <script>\n",
              "        const buttonEl =\n",
              "          document.querySelector('#df-c3fa05bc-28ec-4835-a1a2-d086684fcedd button.colab-df-convert');\n",
              "        buttonEl.style.display =\n",
              "          google.colab.kernel.accessAllowed ? 'block' : 'none';\n",
              "\n",
              "        async function convertToInteractive(key) {\n",
              "          const element = document.querySelector('#df-c3fa05bc-28ec-4835-a1a2-d086684fcedd');\n",
              "          const dataTable =\n",
              "            await google.colab.kernel.invokeFunction('convertToInteractive',\n",
              "                                                     [key], {});\n",
              "          if (!dataTable) return;\n",
              "\n",
              "          const docLinkHtml = 'Like what you see? Visit the ' +\n",
              "            '<a target=\"_blank\" href=https://colab.research.google.com/notebooks/data_table.ipynb>data table notebook</a>'\n",
              "            + ' to learn more about interactive tables.';\n",
              "          element.innerHTML = '';\n",
              "          dataTable['output_type'] = 'display_data';\n",
              "          await google.colab.output.renderOutput(dataTable, element);\n",
              "          const docLink = document.createElement('div');\n",
              "          docLink.innerHTML = docLinkHtml;\n",
              "          element.appendChild(docLink);\n",
              "        }\n",
              "      </script>\n",
              "    </div>\n",
              "  </div>\n",
              "  "
            ]
          },
          "metadata": {},
          "execution_count": 151
        }
      ]
    },
    {
      "cell_type": "code",
      "source": [
        "sns.barplot( x = df['Year'] , y = df['Rotten Tomatoes %'])\n",
        "plt.title('Rotten Tomatoes over Years')"
      ],
      "metadata": {
        "colab": {
          "base_uri": "https://localhost:8080/",
          "height": 490
        },
        "id": "cNaOXuZ1ebTg",
        "outputId": "f89d576c-8881-418d-a529-1943f38bb58c"
      },
      "execution_count": 152,
      "outputs": [
        {
          "output_type": "execute_result",
          "data": {
            "text/plain": [
              "Text(0.5, 1.0, 'Rotten Tomatoes over Years')"
            ]
          },
          "metadata": {},
          "execution_count": 152
        },
        {
          "output_type": "display_data",
          "data": {
            "text/plain": [
              "<Figure size 640x480 with 1 Axes>"
            ],
            "image/png": "[encoded data removed]"
          },
          "metadata": {}
        }
      ]
    },
    {
      "cell_type": "code",
      "source": [
        "sns.barplot( x = df['Year'] , y = df['Audience  score %'])\n",
        "plt.title('Audience Score over Years')"
      ],
      "metadata": {
        "colab": {
          "base_uri": "https://localhost:8080/",
          "height": 490
        },
        "id": "HiCmXhNKepAA",
        "outputId": "d064315e-caa3-403b-b56d-2ce5886b63d4"
      },
      "execution_count": 153,
      "outputs": [
        {
          "output_type": "execute_result",
          "data": {
            "text/plain": [
              "Text(0.5, 1.0, 'Audience Score over Years')"
            ]
          },
          "metadata": {},
          "execution_count": 153
        },
        {
          "output_type": "display_data",
          "data": {
            "text/plain": [
              "<Figure size 640x480 with 1 Axes>"
            ],
            "image/png": "[encoded data removed]"
          },
          "metadata": {}
        }
      ]
    },
    {
      "cell_type": "code",
      "source": [
        "rsdf = df[[ 'Lead Studio' , 'Audience  score %' , 'Rotten Tomatoes %']]\n",
        "\n",
        "rsdf = rsdf.groupby('Lead Studio').agg({ 'Audience  score %' : np.sum , \n",
        "                                 'Rotten Tomatoes %' : np.sum })\n",
        "rsdf = rsdf.sort_values( by = 'Audience  score %' , ascending = False)\n",
        "\n",
        "rsdf"
      ],
      "metadata": {
        "colab": {
          "base_uri": "https://localhost:8080/",
          "height": 488
        },
        "id": "ZSS1e85FfBxK",
        "outputId": "c2fdfa1a-7cc0-4b83-f343-a0bf73a2a4cf"
      },
      "execution_count": 154,
      "outputs": [
        {
          "output_type": "execute_result",
          "data": {
            "text/plain": [
              "                       Audience  score %  Rotten Tomatoes %\n",
              "Lead Studio                                                \n",
              "Independent                       1094.0              835.0\n",
              "Warner Bros.                       700.0              437.0\n",
              "Disney                             459.0              442.0\n",
              "Fox                                414.0              311.0\n",
              "Universal                          375.0              328.0\n",
              "Summit                             366.0              196.0\n",
              "Sony                               278.0              208.0\n",
              "Paramount                          234.0              185.0\n",
              "The Weinstein Company              206.0              215.0\n",
              "20th Century Fox                   122.0               98.0\n",
              "Lionsgate                          106.0               14.0\n",
              "CBS                                 47.0               20.0\n",
              "New Line                            47.0               15.0"
            ],
            "text/html": [
              "\n",
              "  <div id=\"df-fff62c03-0e47-40d5-80ad-c735d0ce5ed3\">\n",
              "    <div class=\"colab-df-container\">\n",
              "      <div>\n",
              "<style scoped>\n",
              "    .dataframe tbody tr th:only-of-type {\n",
              "        vertical-align: middle;\n",
              "    }\n",
              "\n",
              "    .dataframe tbody tr th {\n",
              "        vertical-align: top;\n",
              "    }\n",
              "\n",
              "    .dataframe thead th {\n",
              "        text-align: right;\n",
              "    }\n",
              "</style>\n",
              "<table border=\"1\" class=\"dataframe\">\n",
              "  <thead>\n",
              "    <tr style=\"text-align: right;\">\n",
              "      <th></th>\n",
              "      <th>Audience  score %</th>\n",
              "      <th>Rotten Tomatoes %</th>\n",
              "    </tr>\n",
              "    <tr>\n",
              "      <th>Lead Studio</th>\n",
              "      <th></th>\n",
              "      <th></th>\n",
              "    </tr>\n",
              "  </thead>\n",
              "  <tbody>\n",
              "    <tr>\n",
              "      <th>Independent</th>\n",
              "      <td>1094.0</td>\n",
              "      <td>835.0</td>\n",
              "    </tr>\n",
              "    <tr>\n",
              "      <th>Warner Bros.</th>\n",
              "      <td>700.0</td>\n",
              "      <td>437.0</td>\n",
              "    </tr>\n",
              "    <tr>\n",
              "      <th>Disney</th>\n",
              "      <td>459.0</td>\n",
              "      <td>442.0</td>\n",
              "    </tr>\n",
              "    <tr>\n",
              "      <th>Fox</th>\n",
              "      <td>414.0</td>\n",
              "      <td>311.0</td>\n",
              "    </tr>\n",
              "    <tr>\n",
              "      <th>Universal</th>\n",
              "      <td>375.0</td>\n",
              "      <td>328.0</td>\n",
              "    </tr>\n",
              "    <tr>\n",
              "      <th>Summit</th>\n",
              "      <td>366.0</td>\n",
              "      <td>196.0</td>\n",
              "    </tr>\n",
              "    <tr>\n",
              "      <th>Sony</th>\n",
              "      <td>278.0</td>\n",
              "      <td>208.0</td>\n",
              "    </tr>\n",
              "    <tr>\n",
              "      <th>Paramount</th>\n",
              "      <td>234.0</td>\n",
              "      <td>185.0</td>\n",
              "    </tr>\n",
              "    <tr>\n",
              "      <th>The Weinstein Company</th>\n",
              "      <td>206.0</td>\n",
              "      <td>215.0</td>\n",
              "    </tr>\n",
              "    <tr>\n",
              "      <th>20th Century Fox</th>\n",
              "      <td>122.0</td>\n",
              "      <td>98.0</td>\n",
              "    </tr>\n",
              "    <tr>\n",
              "      <th>Lionsgate</th>\n",
              "      <td>106.0</td>\n",
              "      <td>14.0</td>\n",
              "    </tr>\n",
              "    <tr>\n",
              "      <th>CBS</th>\n",
              "      <td>47.0</td>\n",
              "      <td>20.0</td>\n",
              "    </tr>\n",
              "    <tr>\n",
              "      <th>New Line</th>\n",
              "      <td>47.0</td>\n",
              "      <td>15.0</td>\n",
              "    </tr>\n",
              "  </tbody>\n",
              "</table>\n",
              "</div>\n",
              "      <button class=\"colab-df-convert\" onclick=\"convertToInteractive('df-fff62c03-0e47-40d5-80ad-c735d0ce5ed3')\"\n",
              "              title=\"Convert this dataframe to an interactive table.\"\n",
              "              style=\"display:none;\">\n",
              "        \n",
              "  <svg xmlns=\"http://www.w3.org/2000/svg\" height=\"24px\"viewBox=\"0 0 24 24\"\n",
              "       width=\"24px\">\n",
              "    <path d=\"M0 0h24v24H0V0z\" fill=\"none\"/>\n",
              "    <path d=\"M18.56 5.44l.94 2.06.94-2.06 2.06-.94-2.06-.94-.94-2.06-.94 2.06-2.06.94zm-11 1L8.5 8.5l.94-2.06 2.06-.94-2.06-.94L8.5 2.5l-.94 2.06-2.06.94zm10 10l.94 2.06.94-2.06 2.06-.94-2.06-.94-.94-2.06-.94 2.06-2.06.94z\"/><path d=\"M17.41 7.96l-1.37-1.37c-.4-.4-.92-.59-1.43-.59-.52 0-1.04.2-1.43.59L10.3 9.45l-7.72 7.72c-.78.78-.78 2.05 0 2.83L4 21.41c.39.39.9.59 1.41.59.51 0 1.02-.2 1.41-.59l7.78-7.78 2.81-2.81c.8-.78.8-2.07 0-2.86zM5.41 20L4 18.59l7.72-7.72 1.47 1.35L5.41 20z\"/>\n",
              "  </svg>\n",
              "      </button>\n",
              "      \n",
              "  <style>\n",
              "    .colab-df-container {\n",
              "      display:flex;\n",
              "      flex-wrap:wrap;\n",
              "      gap: 12px;\n",
              "    }\n",
              "\n",
              "    .colab-df-convert {\n",
              "      background-color: #E8F0FE;\n",
              "      border: none;\n",
              "      border-radius: 50%;\n",
              "      cursor: pointer;\n",
              "      display: none;\n",
              "      fill: #1967D2;\n",
              "      height: 32px;\n",
              "      padding: 0 0 0 0;\n",
              "      width: 32px;\n",
              "    }\n",
              "\n",
              "    .colab-df-convert:hover {\n",
              "      background-color: #E2EBFA;\n",
              "      box-shadow: 0px 1px 2px rgba(60, 64, 67, 0.3), 0px 1px 3px 1px rgba(60, 64, 67, 0.15);\n",
              "      fill: #174EA6;\n",
              "    }\n",
              "\n",
              "    [theme=dark] .colab-df-convert {\n",
              "      background-color: #3B4455;\n",
              "      fill: #D2E3FC;\n",
              "    }\n",
              "\n",
              "    [theme=dark] .colab-df-convert:hover {\n",
              "      background-color: #434B5C;\n",
              "      box-shadow: 0px 1px 3px 1px rgba(0, 0, 0, 0.15);\n",
              "      filter: drop-shadow(0px 1px 2px rgba(0, 0, 0, 0.3));\n",
              "      fill: #FFFFFF;\n",
              "    }\n",
              "  </style>\n",
              "\n",
              "      <script>\n",
              "        const buttonEl =\n",
              "          document.querySelector('#df-fff62c03-0e47-40d5-80ad-c735d0ce5ed3 button.colab-df-convert');\n",
              "        buttonEl.style.display =\n",
              "          google.colab.kernel.accessAllowed ? 'block' : 'none';\n",
              "\n",
              "        async function convertToInteractive(key) {\n",
              "          const element = document.querySelector('#df-fff62c03-0e47-40d5-80ad-c735d0ce5ed3');\n",
              "          const dataTable =\n",
              "            await google.colab.kernel.invokeFunction('convertToInteractive',\n",
              "                                                     [key], {});\n",
              "          if (!dataTable) return;\n",
              "\n",
              "          const docLinkHtml = 'Like what you see? Visit the ' +\n",
              "            '<a target=\"_blank\" href=https://colab.research.google.com/notebooks/data_table.ipynb>data table notebook</a>'\n",
              "            + ' to learn more about interactive tables.';\n",
              "          element.innerHTML = '';\n",
              "          dataTable['output_type'] = 'display_data';\n",
              "          await google.colab.output.renderOutput(dataTable, element);\n",
              "          const docLink = document.createElement('div');\n",
              "          docLink.innerHTML = docLinkHtml;\n",
              "          element.appendChild(docLink);\n",
              "        }\n",
              "      </script>\n",
              "    </div>\n",
              "  </div>\n",
              "  "
            ]
          },
          "metadata": {},
          "execution_count": 154
        }
      ]
    },
    {
      "cell_type": "markdown",
      "source": [
        "## Model Development"
      ],
      "metadata": {
        "id": "6LP7fBXEg7WX"
      }
    },
    {
      "cell_type": "code",
      "source": [
        "# Taking the Needed data for model development\n",
        "\n",
        "mdf = df[['Audience  score %' , 'Profitability', 'Rotten Tomatoes %' , 'Worldwide Gross']]\n",
        "\n",
        "mdf"
      ],
      "metadata": {
        "colab": {
          "base_uri": "https://localhost:8080/",
          "height": 423
        },
        "id": "BMRtU9kJwxO1",
        "outputId": "b69c99e7-8c92-4c0f-9565-c4a044591418"
      },
      "execution_count": 155,
      "outputs": [
        {
          "output_type": "execute_result",
          "data": {
            "text/plain": [
              "    Audience  score %  Profitability  Rotten Tomatoes %  Worldwide Gross\n",
              "0                71.0       5.343622               40.0       160.308654\n",
              "1                81.0       8.096000               87.0        60.720000\n",
              "2                89.0       0.448645               79.0         8.972895\n",
              "3                64.0       4.382857               89.0        30.680000\n",
              "4                84.0       0.652603               54.0        29.367143\n",
              "..                ...            ...                ...              ...\n",
              "68               72.0       3.081421               60.0       117.094000\n",
              "69               72.0       6.267647               28.0       219.367646\n",
              "71               35.0       1.211818               43.0        26.660000\n",
              "72               52.0       1.090000               68.0        19.620000\n",
              "73               70.0       1.747542               64.0        41.941000\n",
              "\n",
              "[69 rows x 4 columns]"
            ],
            "text/html": [
              "\n",
              "  <div id=\"df-408dbf7c-6a65-407d-b2e3-d53652c3e802\">\n",
              "    <div class=\"colab-df-container\">\n",
              "      <div>\n",
              "<style scoped>\n",
              "    .dataframe tbody tr th:only-of-type {\n",
              "        vertical-align: middle;\n",
              "    }\n",
              "\n",
              "    .dataframe tbody tr th {\n",
              "        vertical-align: top;\n",
              "    }\n",
              "\n",
              "    .dataframe thead th {\n",
              "        text-align: right;\n",
              "    }\n",
              "</style>\n",
              "<table border=\"1\" class=\"dataframe\">\n",
              "  <thead>\n",
              "    <tr style=\"text-align: right;\">\n",
              "      <th></th>\n",
              "      <th>Audience  score %</th>\n",
              "      <th>Profitability</th>\n",
              "      <th>Rotten Tomatoes %</th>\n",
              "      <th>Worldwide Gross</th>\n",
              "    </tr>\n",
              "  </thead>\n",
              "  <tbody>\n",
              "    <tr>\n",
              "      <th>0</th>\n",
              "      <td>71.0</td>\n",
              "      <td>5.343622</td>\n",
              "      <td>40.0</td>\n",
              "      <td>160.308654</td>\n",
              "    </tr>\n",
              "    <tr>\n",
              "      <th>1</th>\n",
              "      <td>81.0</td>\n",
              "      <td>8.096000</td>\n",
              "      <td>87.0</td>\n",
              "      <td>60.720000</td>\n",
              "    </tr>\n",
              "    <tr>\n",
              "      <th>2</th>\n",
              "      <td>89.0</td>\n",
              "      <td>0.448645</td>\n",
              "      <td>79.0</td>\n",
              "      <td>8.972895</td>\n",
              "    </tr>\n",
              "    <tr>\n",
              "      <th>3</th>\n",
              "      <td>64.0</td>\n",
              "      <td>4.382857</td>\n",
              "      <td>89.0</td>\n",
              "      <td>30.680000</td>\n",
              "    </tr>\n",
              "    <tr>\n",
              "      <th>4</th>\n",
              "      <td>84.0</td>\n",
              "      <td>0.652603</td>\n",
              "      <td>54.0</td>\n",
              "      <td>29.367143</td>\n",
              "    </tr>\n",
              "    <tr>\n",
              "      <th>...</th>\n",
              "      <td>...</td>\n",
              "      <td>...</td>\n",
              "      <td>...</td>\n",
              "      <td>...</td>\n",
              "    </tr>\n",
              "    <tr>\n",
              "      <th>68</th>\n",
              "      <td>72.0</td>\n",
              "      <td>3.081421</td>\n",
              "      <td>60.0</td>\n",
              "      <td>117.094000</td>\n",
              "    </tr>\n",
              "    <tr>\n",
              "      <th>69</th>\n",
              "      <td>72.0</td>\n",
              "      <td>6.267647</td>\n",
              "      <td>28.0</td>\n",
              "      <td>219.367646</td>\n",
              "    </tr>\n",
              "    <tr>\n",
              "      <th>71</th>\n",
              "      <td>35.0</td>\n",
              "      <td>1.211818</td>\n",
              "      <td>43.0</td>\n",
              "      <td>26.660000</td>\n",
              "    </tr>\n",
              "    <tr>\n",
              "      <th>72</th>\n",
              "      <td>52.0</td>\n",
              "      <td>1.090000</td>\n",
              "      <td>68.0</td>\n",
              "      <td>19.620000</td>\n",
              "    </tr>\n",
              "    <tr>\n",
              "      <th>73</th>\n",
              "      <td>70.0</td>\n",
              "      <td>1.747542</td>\n",
              "      <td>64.0</td>\n",
              "      <td>41.941000</td>\n",
              "    </tr>\n",
              "  </tbody>\n",
              "</table>\n",
              "<p>69 rows × 4 columns</p>\n",
              "</div>\n",
              "      <button class=\"colab-df-convert\" onclick=\"convertToInteractive('df-408dbf7c-6a65-407d-b2e3-d53652c3e802')\"\n",
              "              title=\"Convert this dataframe to an interactive table.\"\n",
              "              style=\"display:none;\">\n",
              "        \n",
              "  <svg xmlns=\"http://www.w3.org/2000/svg\" height=\"24px\"viewBox=\"0 0 24 24\"\n",
              "       width=\"24px\">\n",
              "    <path d=\"M0 0h24v24H0V0z\" fill=\"none\"/>\n",
              "    <path d=\"M18.56 5.44l.94 2.06.94-2.06 2.06-.94-2.06-.94-.94-2.06-.94 2.06-2.06.94zm-11 1L8.5 8.5l.94-2.06 2.06-.94-2.06-.94L8.5 2.5l-.94 2.06-2.06.94zm10 10l.94 2.06.94-2.06 2.06-.94-2.06-.94-.94-2.06-.94 2.06-2.06.94z\"/><path d=\"M17.41 7.96l-1.37-1.37c-.4-.4-.92-.59-1.43-.59-.52 0-1.04.2-1.43.59L10.3 9.45l-7.72 7.72c-.78.78-.78 2.05 0 2.83L4 21.41c.39.39.9.59 1.41.59.51 0 1.02-.2 1.41-.59l7.78-7.78 2.81-2.81c.8-.78.8-2.07 0-2.86zM5.41 20L4 18.59l7.72-7.72 1.47 1.35L5.41 20z\"/>\n",
              "  </svg>\n",
              "      </button>\n",
              "      \n",
              "  <style>\n",
              "    .colab-df-container {\n",
              "      display:flex;\n",
              "      flex-wrap:wrap;\n",
              "      gap: 12px;\n",
              "    }\n",
              "\n",
              "    .colab-df-convert {\n",
              "      background-color: #E8F0FE;\n",
              "      border: none;\n",
              "      border-radius: 50%;\n",
              "      cursor: pointer;\n",
              "      display: none;\n",
              "      fill: #1967D2;\n",
              "      height: 32px;\n",
              "      padding: 0 0 0 0;\n",
              "      width: 32px;\n",
              "    }\n",
              "\n",
              "    .colab-df-convert:hover {\n",
              "      background-color: #E2EBFA;\n",
              "      box-shadow: 0px 1px 2px rgba(60, 64, 67, 0.3), 0px 1px 3px 1px rgba(60, 64, 67, 0.15);\n",
              "      fill: #174EA6;\n",
              "    }\n",
              "\n",
              "    [theme=dark] .colab-df-convert {\n",
              "      background-color: #3B4455;\n",
              "      fill: #D2E3FC;\n",
              "    }\n",
              "\n",
              "    [theme=dark] .colab-df-convert:hover {\n",
              "      background-color: #434B5C;\n",
              "      box-shadow: 0px 1px 3px 1px rgba(0, 0, 0, 0.15);\n",
              "      filter: drop-shadow(0px 1px 2px rgba(0, 0, 0, 0.3));\n",
              "      fill: #FFFFFF;\n",
              "    }\n",
              "  </style>\n",
              "\n",
              "      <script>\n",
              "        const buttonEl =\n",
              "          document.querySelector('#df-408dbf7c-6a65-407d-b2e3-d53652c3e802 button.colab-df-convert');\n",
              "        buttonEl.style.display =\n",
              "          google.colab.kernel.accessAllowed ? 'block' : 'none';\n",
              "\n",
              "        async function convertToInteractive(key) {\n",
              "          const element = document.querySelector('#df-408dbf7c-6a65-407d-b2e3-d53652c3e802');\n",
              "          const dataTable =\n",
              "            await google.colab.kernel.invokeFunction('convertToInteractive',\n",
              "                                                     [key], {});\n",
              "          if (!dataTable) return;\n",
              "\n",
              "          const docLinkHtml = 'Like what you see? Visit the ' +\n",
              "            '<a target=\"_blank\" href=https://colab.research.google.com/notebooks/data_table.ipynb>data table notebook</a>'\n",
              "            + ' to learn more about interactive tables.';\n",
              "          element.innerHTML = '';\n",
              "          dataTable['output_type'] = 'display_data';\n",
              "          await google.colab.output.renderOutput(dataTable, element);\n",
              "          const docLink = document.createElement('div');\n",
              "          docLink.innerHTML = docLinkHtml;\n",
              "          element.appendChild(docLink);\n",
              "        }\n",
              "      </script>\n",
              "    </div>\n",
              "  </div>\n",
              "  "
            ]
          },
          "metadata": {},
          "execution_count": 155
        }
      ]
    },
    {
      "cell_type": "markdown",
      "source": [
        "#### Corelation Analysis"
      ],
      "metadata": {
        "id": "A5Ik6AFv4q2_"
      }
    },
    {
      "cell_type": "code",
      "source": [
        "cor_df = mdf.corr()\n",
        "\n",
        "cor_df "
      ],
      "metadata": {
        "colab": {
          "base_uri": "https://localhost:8080/",
          "height": 175
        },
        "id": "vAnrY6h6WOxL",
        "outputId": "dad89c38-4b19-4455-f40c-c93b3afaa8b8"
      },
      "execution_count": 156,
      "outputs": [
        {
          "output_type": "execute_result",
          "data": {
            "text/plain": [
              "                   Audience  score %  Profitability  Rotten Tomatoes %  \\\n",
              "Audience  score %           1.000000       0.042005           0.576542   \n",
              "Profitability               0.042005       1.000000           0.023352   \n",
              "Rotten Tomatoes %           0.576542       0.023352           1.000000   \n",
              "Worldwide Gross             0.396049       0.143764           0.008590   \n",
              "\n",
              "                   Worldwide Gross  \n",
              "Audience  score %         0.396049  \n",
              "Profitability             0.143764  \n",
              "Rotten Tomatoes %         0.008590  \n",
              "Worldwide Gross           1.000000  "
            ],
            "text/html": [
              "\n",
              "  <div id=\"df-962a598c-ddce-4a4a-9c46-a35c0f6e622a\">\n",
              "    <div class=\"colab-df-container\">\n",
              "      <div>\n",
              "<style scoped>\n",
              "    .dataframe tbody tr th:only-of-type {\n",
              "        vertical-align: middle;\n",
              "    }\n",
              "\n",
              "    .dataframe tbody tr th {\n",
              "        vertical-align: top;\n",
              "    }\n",
              "\n",
              "    .dataframe thead th {\n",
              "        text-align: right;\n",
              "    }\n",
              "</style>\n",
              "<table border=\"1\" class=\"dataframe\">\n",
              "  <thead>\n",
              "    <tr style=\"text-align: right;\">\n",
              "      <th></th>\n",
              "      <th>Audience  score %</th>\n",
              "      <th>Profitability</th>\n",
              "      <th>Rotten Tomatoes %</th>\n",
              "      <th>Worldwide Gross</th>\n",
              "    </tr>\n",
              "  </thead>\n",
              "  <tbody>\n",
              "    <tr>\n",
              "      <th>Audience  score %</th>\n",
              "      <td>1.000000</td>\n",
              "      <td>0.042005</td>\n",
              "      <td>0.576542</td>\n",
              "      <td>0.396049</td>\n",
              "    </tr>\n",
              "    <tr>\n",
              "      <th>Profitability</th>\n",
              "      <td>0.042005</td>\n",
              "      <td>1.000000</td>\n",
              "      <td>0.023352</td>\n",
              "      <td>0.143764</td>\n",
              "    </tr>\n",
              "    <tr>\n",
              "      <th>Rotten Tomatoes %</th>\n",
              "      <td>0.576542</td>\n",
              "      <td>0.023352</td>\n",
              "      <td>1.000000</td>\n",
              "      <td>0.008590</td>\n",
              "    </tr>\n",
              "    <tr>\n",
              "      <th>Worldwide Gross</th>\n",
              "      <td>0.396049</td>\n",
              "      <td>0.143764</td>\n",
              "      <td>0.008590</td>\n",
              "      <td>1.000000</td>\n",
              "    </tr>\n",
              "  </tbody>\n",
              "</table>\n",
              "</div>\n",
              "      <button class=\"colab-df-convert\" onclick=\"convertToInteractive('df-962a598c-ddce-4a4a-9c46-a35c0f6e622a')\"\n",
              "              title=\"Convert this dataframe to an interactive table.\"\n",
              "              style=\"display:none;\">\n",
              "        \n",
              "  <svg xmlns=\"http://www.w3.org/2000/svg\" height=\"24px\"viewBox=\"0 0 24 24\"\n",
              "       width=\"24px\">\n",
              "    <path d=\"M0 0h24v24H0V0z\" fill=\"none\"/>\n",
              "    <path d=\"M18.56 5.44l.94 2.06.94-2.06 2.06-.94-2.06-.94-.94-2.06-.94 2.06-2.06.94zm-11 1L8.5 8.5l.94-2.06 2.06-.94-2.06-.94L8.5 2.5l-.94 2.06-2.06.94zm10 10l.94 2.06.94-2.06 2.06-.94-2.06-.94-.94-2.06-.94 2.06-2.06.94z\"/><path d=\"M17.41 7.96l-1.37-1.37c-.4-.4-.92-.59-1.43-.59-.52 0-1.04.2-1.43.59L10.3 9.45l-7.72 7.72c-.78.78-.78 2.05 0 2.83L4 21.41c.39.39.9.59 1.41.59.51 0 1.02-.2 1.41-.59l7.78-7.78 2.81-2.81c.8-.78.8-2.07 0-2.86zM5.41 20L4 18.59l7.72-7.72 1.47 1.35L5.41 20z\"/>\n",
              "  </svg>\n",
              "      </button>\n",
              "      \n",
              "  <style>\n",
              "    .colab-df-container {\n",
              "      display:flex;\n",
              "      flex-wrap:wrap;\n",
              "      gap: 12px;\n",
              "    }\n",
              "\n",
              "    .colab-df-convert {\n",
              "      background-color: #E8F0FE;\n",
              "      border: none;\n",
              "      border-radius: 50%;\n",
              "      cursor: pointer;\n",
              "      display: none;\n",
              "      fill: #1967D2;\n",
              "      height: 32px;\n",
              "      padding: 0 0 0 0;\n",
              "      width: 32px;\n",
              "    }\n",
              "\n",
              "    .colab-df-convert:hover {\n",
              "      background-color: #E2EBFA;\n",
              "      box-shadow: 0px 1px 2px rgba(60, 64, 67, 0.3), 0px 1px 3px 1px rgba(60, 64, 67, 0.15);\n",
              "      fill: #174EA6;\n",
              "    }\n",
              "\n",
              "    [theme=dark] .colab-df-convert {\n",
              "      background-color: #3B4455;\n",
              "      fill: #D2E3FC;\n",
              "    }\n",
              "\n",
              "    [theme=dark] .colab-df-convert:hover {\n",
              "      background-color: #434B5C;\n",
              "      box-shadow: 0px 1px 3px 1px rgba(0, 0, 0, 0.15);\n",
              "      filter: drop-shadow(0px 1px 2px rgba(0, 0, 0, 0.3));\n",
              "      fill: #FFFFFF;\n",
              "    }\n",
              "  </style>\n",
              "\n",
              "      <script>\n",
              "        const buttonEl =\n",
              "          document.querySelector('#df-962a598c-ddce-4a4a-9c46-a35c0f6e622a button.colab-df-convert');\n",
              "        buttonEl.style.display =\n",
              "          google.colab.kernel.accessAllowed ? 'block' : 'none';\n",
              "\n",
              "        async function convertToInteractive(key) {\n",
              "          const element = document.querySelector('#df-962a598c-ddce-4a4a-9c46-a35c0f6e622a');\n",
              "          const dataTable =\n",
              "            await google.colab.kernel.invokeFunction('convertToInteractive',\n",
              "                                                     [key], {});\n",
              "          if (!dataTable) return;\n",
              "\n",
              "          const docLinkHtml = 'Like what you see? Visit the ' +\n",
              "            '<a target=\"_blank\" href=https://colab.research.google.com/notebooks/data_table.ipynb>data table notebook</a>'\n",
              "            + ' to learn more about interactive tables.';\n",
              "          element.innerHTML = '';\n",
              "          dataTable['output_type'] = 'display_data';\n",
              "          await google.colab.output.renderOutput(dataTable, element);\n",
              "          const docLink = document.createElement('div');\n",
              "          docLink.innerHTML = docLinkHtml;\n",
              "          element.appendChild(docLink);\n",
              "        }\n",
              "      </script>\n",
              "    </div>\n",
              "  </div>\n",
              "  "
            ]
          },
          "metadata": {},
          "execution_count": 156
        }
      ]
    },
    {
      "cell_type": "code",
      "source": [
        "sns.heatmap(cor_df)\n",
        "plt.title('Correlation of Variables')"
      ],
      "metadata": {
        "colab": {
          "base_uri": "https://localhost:8080/",
          "height": 590
        },
        "id": "aQzVfoFasLsm",
        "outputId": "07800de7-0cac-498a-85eb-b8f7487788de"
      },
      "execution_count": 157,
      "outputs": [
        {
          "output_type": "execute_result",
          "data": {
            "text/plain": [
              "Text(0.5, 1.0, 'Correlation of Variables')"
            ]
          },
          "metadata": {},
          "execution_count": 157
        },
        {
          "output_type": "display_data",
          "data": {
            "text/plain": [
              "<Figure size 640x480 with 2 Axes>"
            ],
            "image/png": "[encoded data removed]"
          },
          "metadata": {}
        }
      ]
    },
    {
      "cell_type": "markdown",
      "source": [
        "Every variable in the model is positively less correlated "
      ],
      "metadata": {
        "id": "LDlTIUvC4vkP"
      }
    },
    {
      "cell_type": "markdown",
      "source": [
        "### Checking for outlier with box plot"
      ],
      "metadata": {
        "id": "lNL62Ri45C8a"
      }
    },
    {
      "cell_type": "code",
      "source": [
        "sns.boxplot(y = mdf['Profitability'])\n",
        "plt.title('Outliers of Profitability')"
      ],
      "metadata": {
        "colab": {
          "base_uri": "https://localhost:8080/",
          "height": 451
        },
        "id": "7rWxSFYOtZpH",
        "outputId": "3f864621-6644-4add-e55a-6c0287cc400d"
      },
      "execution_count": 158,
      "outputs": [
        {
          "output_type": "execute_result",
          "data": {
            "text/plain": [
              "Text(0.5, 1.0, 'Outliers of Profitability')"
            ]
          },
          "metadata": {},
          "execution_count": 158
        },
        {
          "output_type": "display_data",
          "data": {
            "text/plain": [
              "<Figure size 640x480 with 1 Axes>"
            ],
            "image/png": "[encoded data removed]"
          },
          "metadata": {}
        }
      ]
    },
    {
      "cell_type": "code",
      "source": [
        "sns.boxplot(y = mdf['Audience  score %'])\n",
        "plt.title('Outliers of Audience Score')"
      ],
      "metadata": {
        "colab": {
          "base_uri": "https://localhost:8080/",
          "height": 451
        },
        "id": "yHE9yUO_toFp",
        "outputId": "a1cbead4-12ff-4145-b33d-5ed56d41f475"
      },
      "execution_count": 159,
      "outputs": [
        {
          "output_type": "execute_result",
          "data": {
            "text/plain": [
              "Text(0.5, 1.0, 'Outliers of Audience Score')"
            ]
          },
          "metadata": {},
          "execution_count": 159
        },
        {
          "output_type": "display_data",
          "data": {
            "text/plain": [
              "<Figure size 640x480 with 1 Axes>"
            ],
            "image/png": "[encoded data removed]"
          },
          "metadata": {}
        }
      ]
    },
    {
      "cell_type": "code",
      "source": [
        "sns.boxplot(y = mdf['Rotten Tomatoes %'])\n",
        "plt.title('Outliers of Rotten Tomatoes')"
      ],
      "metadata": {
        "colab": {
          "base_uri": "https://localhost:8080/",
          "height": 451
        },
        "id": "QtSPtzuLty9Q",
        "outputId": "13fd30b3-adbe-4d8e-e381-fa289c558bc4"
      },
      "execution_count": 160,
      "outputs": [
        {
          "output_type": "execute_result",
          "data": {
            "text/plain": [
              "Text(0.5, 1.0, 'Outliers of Rotten Tomatoes')"
            ]
          },
          "metadata": {},
          "execution_count": 160
        },
        {
          "output_type": "display_data",
          "data": {
            "text/plain": [
              "<Figure size 640x480 with 1 Axes>"
            ],
            "image/png": "[encoded data removed]"
          },
          "metadata": {}
        }
      ]
    },
    {
      "cell_type": "code",
      "source": [
        "sns.boxplot(y = mdf['Worldwide Gross'])\n",
        "plt.title('Outliers of Worldwide Gross')"
      ],
      "metadata": {
        "colab": {
          "base_uri": "https://localhost:8080/",
          "height": 451
        },
        "id": "qRZyGcxDt7zO",
        "outputId": "ed84656f-167f-40a2-b464-fbab4e3d36b6"
      },
      "execution_count": 161,
      "outputs": [
        {
          "output_type": "execute_result",
          "data": {
            "text/plain": [
              "Text(0.5, 1.0, 'Outliers of Worldwide Gross')"
            ]
          },
          "metadata": {},
          "execution_count": 161
        },
        {
          "output_type": "display_data",
          "data": {
            "text/plain": [
              "<Figure size 640x480 with 1 Axes>"
            ],
            "image/png": "[encoded data removed]"
          },
          "metadata": {}
        }
      ]
    },
    {
      "cell_type": "markdown",
      "source": [
        "Since the variable profitability and world wide gross has Outliers we will be replacing it with z score."
      ],
      "metadata": {
        "id": "wVHvVQTV5J0I"
      }
    },
    {
      "cell_type": "code",
      "source": [
        "zs = stats.zscore(mdf)\n",
        "th = 3 \n",
        "ol = mdf[abs(zs) > th]\n",
        "dwo = mdf[abs(zs)<= th]\n",
        "\n",
        "dwo"
      ],
      "metadata": {
        "colab": {
          "base_uri": "https://localhost:8080/",
          "height": 423
        },
        "id": "xXj_v9zZw1Ch",
        "outputId": "e59f8b7d-89d9-4460-ba06-4fa4a4693626"
      },
      "execution_count": 162,
      "outputs": [
        {
          "output_type": "execute_result",
          "data": {
            "text/plain": [
              "    Audience  score %  Profitability  Rotten Tomatoes %  Worldwide Gross\n",
              "0                71.0       5.343622               40.0       160.308654\n",
              "1                81.0       8.096000               87.0        60.720000\n",
              "2                89.0       0.448645               79.0         8.972895\n",
              "3                64.0       4.382857               89.0        30.680000\n",
              "4                84.0       0.652603               54.0        29.367143\n",
              "..                ...            ...                ...              ...\n",
              "68               72.0       3.081421               60.0       117.094000\n",
              "69               72.0       6.267647               28.0       219.367646\n",
              "71               35.0       1.211818               43.0        26.660000\n",
              "72               52.0       1.090000               68.0        19.620000\n",
              "73               70.0       1.747542               64.0        41.941000\n",
              "\n",
              "[69 rows x 4 columns]"
            ],
            "text/html": [
              "\n",
              "  <div id=\"df-feef4761-6189-4c51-9f4e-2050bf70d8cc\">\n",
              "    <div class=\"colab-df-container\">\n",
              "      <div>\n",
              "<style scoped>\n",
              "    .dataframe tbody tr th:only-of-type {\n",
              "        vertical-align: middle;\n",
              "    }\n",
              "\n",
              "    .dataframe tbody tr th {\n",
              "        vertical-align: top;\n",
              "    }\n",
              "\n",
              "    .dataframe thead th {\n",
              "        text-align: right;\n",
              "    }\n",
              "</style>\n",
              "<table border=\"1\" class=\"dataframe\">\n",
              "  <thead>\n",
              "    <tr style=\"text-align: right;\">\n",
              "      <th></th>\n",
              "      <th>Audience  score %</th>\n",
              "      <th>Profitability</th>\n",
              "      <th>Rotten Tomatoes %</th>\n",
              "      <th>Worldwide Gross</th>\n",
              "    </tr>\n",
              "  </thead>\n",
              "  <tbody>\n",
              "    <tr>\n",
              "      <th>0</th>\n",
              "      <td>71.0</td>\n",
              "      <td>5.343622</td>\n",
              "      <td>40.0</td>\n",
              "      <td>160.308654</td>\n",
              "    </tr>\n",
              "    <tr>\n",
              "      <th>1</th>\n",
              "      <td>81.0</td>\n",
              "      <td>8.096000</td>\n",
              "      <td>87.0</td>\n",
              "      <td>60.720000</td>\n",
              "    </tr>\n",
              "    <tr>\n",
              "      <th>2</th>\n",
              "      <td>89.0</td>\n",
              "      <td>0.448645</td>\n",
              "      <td>79.0</td>\n",
              "      <td>8.972895</td>\n",
              "    </tr>\n",
              "    <tr>\n",
              "      <th>3</th>\n",
              "      <td>64.0</td>\n",
              "      <td>4.382857</td>\n",
              "      <td>89.0</td>\n",
              "      <td>30.680000</td>\n",
              "    </tr>\n",
              "    <tr>\n",
              "      <th>4</th>\n",
              "      <td>84.0</td>\n",
              "      <td>0.652603</td>\n",
              "      <td>54.0</td>\n",
              "      <td>29.367143</td>\n",
              "    </tr>\n",
              "    <tr>\n",
              "      <th>...</th>\n",
              "      <td>...</td>\n",
              "      <td>...</td>\n",
              "      <td>...</td>\n",
              "      <td>...</td>\n",
              "    </tr>\n",
              "    <tr>\n",
              "      <th>68</th>\n",
              "      <td>72.0</td>\n",
              "      <td>3.081421</td>\n",
              "      <td>60.0</td>\n",
              "      <td>117.094000</td>\n",
              "    </tr>\n",
              "    <tr>\n",
              "      <th>69</th>\n",
              "      <td>72.0</td>\n",
              "      <td>6.267647</td>\n",
              "      <td>28.0</td>\n",
              "      <td>219.367646</td>\n",
              "    </tr>\n",
              "    <tr>\n",
              "      <th>71</th>\n",
              "      <td>35.0</td>\n",
              "      <td>1.211818</td>\n",
              "      <td>43.0</td>\n",
              "      <td>26.660000</td>\n",
              "    </tr>\n",
              "    <tr>\n",
              "      <th>72</th>\n",
              "      <td>52.0</td>\n",
              "      <td>1.090000</td>\n",
              "      <td>68.0</td>\n",
              "      <td>19.620000</td>\n",
              "    </tr>\n",
              "    <tr>\n",
              "      <th>73</th>\n",
              "      <td>70.0</td>\n",
              "      <td>1.747542</td>\n",
              "      <td>64.0</td>\n",
              "      <td>41.941000</td>\n",
              "    </tr>\n",
              "  </tbody>\n",
              "</table>\n",
              "<p>69 rows × 4 columns</p>\n",
              "</div>\n",
              "      <button class=\"colab-df-convert\" onclick=\"convertToInteractive('df-feef4761-6189-4c51-9f4e-2050bf70d8cc')\"\n",
              "              title=\"Convert this dataframe to an interactive table.\"\n",
              "              style=\"display:none;\">\n",
              "        \n",
              "  <svg xmlns=\"http://www.w3.org/2000/svg\" height=\"24px\"viewBox=\"0 0 24 24\"\n",
              "       width=\"24px\">\n",
              "    <path d=\"M0 0h24v24H0V0z\" fill=\"none\"/>\n",
              "    <path d=\"M18.56 5.44l.94 2.06.94-2.06 2.06-.94-2.06-.94-.94-2.06-.94 2.06-2.06.94zm-11 1L8.5 8.5l.94-2.06 2.06-.94-2.06-.94L8.5 2.5l-.94 2.06-2.06.94zm10 10l.94 2.06.94-2.06 2.06-.94-2.06-.94-.94-2.06-.94 2.06-2.06.94z\"/><path d=\"M17.41 7.96l-1.37-1.37c-.4-.4-.92-.59-1.43-.59-.52 0-1.04.2-1.43.59L10.3 9.45l-7.72 7.72c-.78.78-.78 2.05 0 2.83L4 21.41c.39.39.9.59 1.41.59.51 0 1.02-.2 1.41-.59l7.78-7.78 2.81-2.81c.8-.78.8-2.07 0-2.86zM5.41 20L4 18.59l7.72-7.72 1.47 1.35L5.41 20z\"/>\n",
              "  </svg>\n",
              "      </button>\n",
              "      \n",
              "  <style>\n",
              "    .colab-df-container {\n",
              "      display:flex;\n",
              "      flex-wrap:wrap;\n",
              "      gap: 12px;\n",
              "    }\n",
              "\n",
              "    .colab-df-convert {\n",
              "      background-color: #E8F0FE;\n",
              "      border: none;\n",
              "      border-radius: 50%;\n",
              "      cursor: pointer;\n",
              "      display: none;\n",
              "      fill: #1967D2;\n",
              "      height: 32px;\n",
              "      padding: 0 0 0 0;\n",
              "      width: 32px;\n",
              "    }\n",
              "\n",
              "    .colab-df-convert:hover {\n",
              "      background-color: #E2EBFA;\n",
              "      box-shadow: 0px 1px 2px rgba(60, 64, 67, 0.3), 0px 1px 3px 1px rgba(60, 64, 67, 0.15);\n",
              "      fill: #174EA6;\n",
              "    }\n",
              "\n",
              "    [theme=dark] .colab-df-convert {\n",
              "      background-color: #3B4455;\n",
              "      fill: #D2E3FC;\n",
              "    }\n",
              "\n",
              "    [theme=dark] .colab-df-convert:hover {\n",
              "      background-color: #434B5C;\n",
              "      box-shadow: 0px 1px 3px 1px rgba(0, 0, 0, 0.15);\n",
              "      filter: drop-shadow(0px 1px 2px rgba(0, 0, 0, 0.3));\n",
              "      fill: #FFFFFF;\n",
              "    }\n",
              "  </style>\n",
              "\n",
              "      <script>\n",
              "        const buttonEl =\n",
              "          document.querySelector('#df-feef4761-6189-4c51-9f4e-2050bf70d8cc button.colab-df-convert');\n",
              "        buttonEl.style.display =\n",
              "          google.colab.kernel.accessAllowed ? 'block' : 'none';\n",
              "\n",
              "        async function convertToInteractive(key) {\n",
              "          const element = document.querySelector('#df-feef4761-6189-4c51-9f4e-2050bf70d8cc');\n",
              "          const dataTable =\n",
              "            await google.colab.kernel.invokeFunction('convertToInteractive',\n",
              "                                                     [key], {});\n",
              "          if (!dataTable) return;\n",
              "\n",
              "          const docLinkHtml = 'Like what you see? Visit the ' +\n",
              "            '<a target=\"_blank\" href=https://colab.research.google.com/notebooks/data_table.ipynb>data table notebook</a>'\n",
              "            + ' to learn more about interactive tables.';\n",
              "          element.innerHTML = '';\n",
              "          dataTable['output_type'] = 'display_data';\n",
              "          await google.colab.output.renderOutput(dataTable, element);\n",
              "          const docLink = document.createElement('div');\n",
              "          docLink.innerHTML = docLinkHtml;\n",
              "          element.appendChild(docLink);\n",
              "        }\n",
              "      </script>\n",
              "    </div>\n",
              "  </div>\n",
              "  "
            ]
          },
          "metadata": {},
          "execution_count": 162
        }
      ]
    },
    {
      "cell_type": "code",
      "source": [
        "dwo.isnull().sum()"
      ],
      "metadata": {
        "colab": {
          "base_uri": "https://localhost:8080/"
        },
        "id": "fi3nQeyrzl9D",
        "outputId": "40e6423a-4c41-411c-decb-7e74def7ec4f"
      },
      "execution_count": 163,
      "outputs": [
        {
          "output_type": "execute_result",
          "data": {
            "text/plain": [
              "Audience  score %    0\n",
              "Profitability        1\n",
              "Rotten Tomatoes %    0\n",
              "Worldwide Gross      2\n",
              "dtype: int64"
            ]
          },
          "metadata": {},
          "execution_count": 163
        }
      ]
    },
    {
      "cell_type": "code",
      "source": [
        "dwo = dwo.dropna()\n",
        "\n",
        "dwo"
      ],
      "metadata": {
        "colab": {
          "base_uri": "https://localhost:8080/",
          "height": 423
        },
        "id": "Zir86M6fzr9X",
        "outputId": "e25912ce-429c-4169-c71c-c96c3208a68c"
      },
      "execution_count": 164,
      "outputs": [
        {
          "output_type": "execute_result",
          "data": {
            "text/plain": [
              "    Audience  score %  Profitability  Rotten Tomatoes %  Worldwide Gross\n",
              "0                71.0       5.343622               40.0       160.308654\n",
              "1                81.0       8.096000               87.0        60.720000\n",
              "2                89.0       0.448645               79.0         8.972895\n",
              "3                64.0       4.382857               89.0        30.680000\n",
              "4                84.0       0.652603               54.0        29.367143\n",
              "..                ...            ...                ...              ...\n",
              "68               72.0       3.081421               60.0       117.094000\n",
              "69               72.0       6.267647               28.0       219.367646\n",
              "71               35.0       1.211818               43.0        26.660000\n",
              "72               52.0       1.090000               68.0        19.620000\n",
              "73               70.0       1.747542               64.0        41.941000\n",
              "\n",
              "[66 rows x 4 columns]"
            ],
            "text/html": [
              "\n",
              "  <div id=\"df-b47ba187-2089-4f62-84ad-36e02f3f4cc8\">\n",
              "    <div class=\"colab-df-container\">\n",
              "      <div>\n",
              "<style scoped>\n",
              "    .dataframe tbody tr th:only-of-type {\n",
              "        vertical-align: middle;\n",
              "    }\n",
              "\n",
              "    .dataframe tbody tr th {\n",
              "        vertical-align: top;\n",
              "    }\n",
              "\n",
              "    .dataframe thead th {\n",
              "        text-align: right;\n",
              "    }\n",
              "</style>\n",
              "<table border=\"1\" class=\"dataframe\">\n",
              "  <thead>\n",
              "    <tr style=\"text-align: right;\">\n",
              "      <th></th>\n",
              "      <th>Audience  score %</th>\n",
              "      <th>Profitability</th>\n",
              "      <th>Rotten Tomatoes %</th>\n",
              "      <th>Worldwide Gross</th>\n",
              "    </tr>\n",
              "  </thead>\n",
              "  <tbody>\n",
              "    <tr>\n",
              "      <th>0</th>\n",
              "      <td>71.0</td>\n",
              "      <td>5.343622</td>\n",
              "      <td>40.0</td>\n",
              "      <td>160.308654</td>\n",
              "    </tr>\n",
              "    <tr>\n",
              "      <th>1</th>\n",
              "      <td>81.0</td>\n",
              "      <td>8.096000</td>\n",
              "      <td>87.0</td>\n",
              "      <td>60.720000</td>\n",
              "    </tr>\n",
              "    <tr>\n",
              "      <th>2</th>\n",
              "      <td>89.0</td>\n",
              "      <td>0.448645</td>\n",
              "      <td>79.0</td>\n",
              "      <td>8.972895</td>\n",
              "    </tr>\n",
              "    <tr>\n",
              "      <th>3</th>\n",
              "      <td>64.0</td>\n",
              "      <td>4.382857</td>\n",
              "      <td>89.0</td>\n",
              "      <td>30.680000</td>\n",
              "    </tr>\n",
              "    <tr>\n",
              "      <th>4</th>\n",
              "      <td>84.0</td>\n",
              "      <td>0.652603</td>\n",
              "      <td>54.0</td>\n",
              "      <td>29.367143</td>\n",
              "    </tr>\n",
              "    <tr>\n",
              "      <th>...</th>\n",
              "      <td>...</td>\n",
              "      <td>...</td>\n",
              "      <td>...</td>\n",
              "      <td>...</td>\n",
              "    </tr>\n",
              "    <tr>\n",
              "      <th>68</th>\n",
              "      <td>72.0</td>\n",
              "      <td>3.081421</td>\n",
              "      <td>60.0</td>\n",
              "      <td>117.094000</td>\n",
              "    </tr>\n",
              "    <tr>\n",
              "      <th>69</th>\n",
              "      <td>72.0</td>\n",
              "      <td>6.267647</td>\n",
              "      <td>28.0</td>\n",
              "      <td>219.367646</td>\n",
              "    </tr>\n",
              "    <tr>\n",
              "      <th>71</th>\n",
              "      <td>35.0</td>\n",
              "      <td>1.211818</td>\n",
              "      <td>43.0</td>\n",
              "      <td>26.660000</td>\n",
              "    </tr>\n",
              "    <tr>\n",
              "      <th>72</th>\n",
              "      <td>52.0</td>\n",
              "      <td>1.090000</td>\n",
              "      <td>68.0</td>\n",
              "      <td>19.620000</td>\n",
              "    </tr>\n",
              "    <tr>\n",
              "      <th>73</th>\n",
              "      <td>70.0</td>\n",
              "      <td>1.747542</td>\n",
              "      <td>64.0</td>\n",
              "      <td>41.941000</td>\n",
              "    </tr>\n",
              "  </tbody>\n",
              "</table>\n",
              "<p>66 rows × 4 columns</p>\n",
              "</div>\n",
              "      <button class=\"colab-df-convert\" onclick=\"convertToInteractive('df-b47ba187-2089-4f62-84ad-36e02f3f4cc8')\"\n",
              "              title=\"Convert this dataframe to an interactive table.\"\n",
              "              style=\"display:none;\">\n",
              "        \n",
              "  <svg xmlns=\"http://www.w3.org/2000/svg\" height=\"24px\"viewBox=\"0 0 24 24\"\n",
              "       width=\"24px\">\n",
              "    <path d=\"M0 0h24v24H0V0z\" fill=\"none\"/>\n",
              "    <path d=\"M18.56 5.44l.94 2.06.94-2.06 2.06-.94-2.06-.94-.94-2.06-.94 2.06-2.06.94zm-11 1L8.5 8.5l.94-2.06 2.06-.94-2.06-.94L8.5 2.5l-.94 2.06-2.06.94zm10 10l.94 2.06.94-2.06 2.06-.94-2.06-.94-.94-2.06-.94 2.06-2.06.94z\"/><path d=\"M17.41 7.96l-1.37-1.37c-.4-.4-.92-.59-1.43-.59-.52 0-1.04.2-1.43.59L10.3 9.45l-7.72 7.72c-.78.78-.78 2.05 0 2.83L4 21.41c.39.39.9.59 1.41.59.51 0 1.02-.2 1.41-.59l7.78-7.78 2.81-2.81c.8-.78.8-2.07 0-2.86zM5.41 20L4 18.59l7.72-7.72 1.47 1.35L5.41 20z\"/>\n",
              "  </svg>\n",
              "      </button>\n",
              "      \n",
              "  <style>\n",
              "    .colab-df-container {\n",
              "      display:flex;\n",
              "      flex-wrap:wrap;\n",
              "      gap: 12px;\n",
              "    }\n",
              "\n",
              "    .colab-df-convert {\n",
              "      background-color: #E8F0FE;\n",
              "      border: none;\n",
              "      border-radius: 50%;\n",
              "      cursor: pointer;\n",
              "      display: none;\n",
              "      fill: #1967D2;\n",
              "      height: 32px;\n",
              "      padding: 0 0 0 0;\n",
              "      width: 32px;\n",
              "    }\n",
              "\n",
              "    .colab-df-convert:hover {\n",
              "      background-color: #E2EBFA;\n",
              "      box-shadow: 0px 1px 2px rgba(60, 64, 67, 0.3), 0px 1px 3px 1px rgba(60, 64, 67, 0.15);\n",
              "      fill: #174EA6;\n",
              "    }\n",
              "\n",
              "    [theme=dark] .colab-df-convert {\n",
              "      background-color: #3B4455;\n",
              "      fill: #D2E3FC;\n",
              "    }\n",
              "\n",
              "    [theme=dark] .colab-df-convert:hover {\n",
              "      background-color: #434B5C;\n",
              "      box-shadow: 0px 1px 3px 1px rgba(0, 0, 0, 0.15);\n",
              "      filter: drop-shadow(0px 1px 2px rgba(0, 0, 0, 0.3));\n",
              "      fill: #FFFFFF;\n",
              "    }\n",
              "  </style>\n",
              "\n",
              "      <script>\n",
              "        const buttonEl =\n",
              "          document.querySelector('#df-b47ba187-2089-4f62-84ad-36e02f3f4cc8 button.colab-df-convert');\n",
              "        buttonEl.style.display =\n",
              "          google.colab.kernel.accessAllowed ? 'block' : 'none';\n",
              "\n",
              "        async function convertToInteractive(key) {\n",
              "          const element = document.querySelector('#df-b47ba187-2089-4f62-84ad-36e02f3f4cc8');\n",
              "          const dataTable =\n",
              "            await google.colab.kernel.invokeFunction('convertToInteractive',\n",
              "                                                     [key], {});\n",
              "          if (!dataTable) return;\n",
              "\n",
              "          const docLinkHtml = 'Like what you see? Visit the ' +\n",
              "            '<a target=\"_blank\" href=https://colab.research.google.com/notebooks/data_table.ipynb>data table notebook</a>'\n",
              "            + ' to learn more about interactive tables.';\n",
              "          element.innerHTML = '';\n",
              "          dataTable['output_type'] = 'display_data';\n",
              "          await google.colab.output.renderOutput(dataTable, element);\n",
              "          const docLink = document.createElement('div');\n",
              "          docLink.innerHTML = docLinkHtml;\n",
              "          element.appendChild(docLink);\n",
              "        }\n",
              "      </script>\n",
              "    </div>\n",
              "  </div>\n",
              "  "
            ]
          },
          "metadata": {},
          "execution_count": 164
        }
      ]
    },
    {
      "cell_type": "markdown",
      "source": [
        "Checking for relationship between independent and dependent variables induvidually using scatter plot."
      ],
      "metadata": {
        "id": "aKltT1Gt6Om-"
      }
    },
    {
      "cell_type": "code",
      "source": [
        "sns.regplot( x = dwo['Audience  score %'] , y = dwo['Profitability'])\n",
        "plt.title('Relationship Between Audience Score and Profitability')"
      ],
      "metadata": {
        "colab": {
          "base_uri": "https://localhost:8080/",
          "height": 490
        },
        "id": "y3xDsJweuFxf",
        "outputId": "581e5f64-3d94-437e-a10d-5b531c77bfba"
      },
      "execution_count": 165,
      "outputs": [
        {
          "output_type": "execute_result",
          "data": {
            "text/plain": [
              "Text(0.5, 1.0, 'Relationship Between Audience Score and Profitability')"
            ]
          },
          "metadata": {},
          "execution_count": 165
        },
        {
          "output_type": "display_data",
          "data": {
            "text/plain": [
              "<Figure size 640x480 with 1 Axes>"
            ],
            "image/png": "[encoded data removed]"
          },
          "metadata": {}
        }
      ]
    },
    {
      "cell_type": "code",
      "source": [
        "sns.regplot( x = dwo['Rotten Tomatoes %'] , y = dwo['Profitability'])\n",
        "plt.title('Relationship Between Rotten Tomatoes and Profitability')"
      ],
      "metadata": {
        "colab": {
          "base_uri": "https://localhost:8080/",
          "height": 490
        },
        "id": "npO860EHuRdI",
        "outputId": "e6da3287-df93-490f-df3a-6b0a0381b753"
      },
      "execution_count": 166,
      "outputs": [
        {
          "output_type": "execute_result",
          "data": {
            "text/plain": [
              "Text(0.5, 1.0, 'Relationship Between Rotten Tomatoes and Profitability')"
            ]
          },
          "metadata": {},
          "execution_count": 166
        },
        {
          "output_type": "display_data",
          "data": {
            "text/plain": [
              "<Figure size 640x480 with 1 Axes>"
            ],
            "image/png": "[encoded data removed]"
          },
          "metadata": {}
        }
      ]
    },
    {
      "cell_type": "code",
      "source": [
        "sns.regplot( x = dwo['Worldwide Gross'] ,  y = dwo['Profitability'])\n",
        "plt.title('Relationship Between Worldwide Gross and Profitability')"
      ],
      "metadata": {
        "colab": {
          "base_uri": "https://localhost:8080/",
          "height": 490
        },
        "id": "2GVjM5YQuc96",
        "outputId": "db896fa3-010a-4a16-95a8-409e7dc7d6fc"
      },
      "execution_count": 167,
      "outputs": [
        {
          "output_type": "execute_result",
          "data": {
            "text/plain": [
              "Text(0.5, 1.0, 'Relationship Between Worldwide Gross and Profitability')"
            ]
          },
          "metadata": {},
          "execution_count": 167
        },
        {
          "output_type": "display_data",
          "data": {
            "text/plain": [
              "<Figure size 640x480 with 1 Axes>"
            ],
            "image/png": "[encoded data removed]"
          },
          "metadata": {}
        }
      ]
    },
    {
      "cell_type": "markdown",
      "source": [
        "Every Independent variable has a positive realtionship between the Dependent variable."
      ],
      "metadata": {
        "id": "KhHTp7IG6dTw"
      }
    },
    {
      "cell_type": "markdown",
      "source": [
        "### Building Linear model"
      ],
      "metadata": {
        "id": "gGbpVhXa6si8"
      }
    },
    {
      "cell_type": "code",
      "source": [
        "x = dwo[['Audience  score %' , 'Worldwide Gross' , 'Rotten Tomatoes %']]\n",
        "\n",
        "y = dwo['Profitability']"
      ],
      "metadata": {
        "id": "kD8isXQcu_fc"
      },
      "execution_count": 168,
      "outputs": []
    },
    {
      "cell_type": "code",
      "source": [
        "# checking for significance\n",
        "t_stat , p_val = stats.ttest_ind(x,y)\n",
        "\n",
        "print('T Stat :' , t_stat)\n",
        "print('P Value :' , p_val)"
      ],
      "metadata": {
        "colab": {
          "base_uri": "https://localhost:8080/"
        },
        "id": "-J7BaVsi7Adh",
        "outputId": "d68894e1-0cf3-4d19-c934-e5d2762599b0"
      },
      "execution_count": 169,
      "outputs": [
        {
          "output_type": "stream",
          "name": "stdout",
          "text": [
            "T Stat : [34.88080161  7.72978168 13.77702874]\n",
            "P Value : [7.41584540e-68 2.58666167e-12 3.49814919e-27]\n"
          ]
        }
      ]
    },
    {
      "cell_type": "code",
      "source": [
        "lm = LinearRegression()\n",
        "lm.fit(x,y)\n",
        "\n",
        "print('Intercept :' , lm.intercept_)\n",
        "print('Coefficient :' , lm.coef_)\n",
        "print('R square :' , lm.score(x,y))\n"
      ],
      "metadata": {
        "colab": {
          "base_uri": "https://localhost:8080/"
        },
        "id": "qRpDEgHwuuVc",
        "outputId": "2d04247f-c928-4e53-db71-47daccca4b01"
      },
      "execution_count": 170,
      "outputs": [
        {
          "output_type": "stream",
          "name": "stdout",
          "text": [
            "Intercept : -0.2999315937552116\n",
            "Coefficient : [0.03706187 0.00975633 0.00760916]\n",
            "R square : 0.22081839406728965\n"
          ]
        }
      ]
    },
    {
      "cell_type": "markdown",
      "source": [
        "## Findings and Conclusion "
      ],
      "metadata": {
        "id": "_xZZmQwQ7l0D"
      }
    },
    {
      "cell_type": "markdown",
      "source": [
        "In this model development we found that there is Less positive correlation between the variables and the relationships are positively associated with the dependent variable.\n",
        "\n",
        "The independent are also significant we tested with T Stastic and P value, however the goodness of fit for the model was only 22%. The intercept related is negative and the coefficients were positive related. \n",
        "\n",
        "This Model is not a invalid because of the following reasons :\n",
        " 1. The sample size is less.\n",
        " 2. While checking the relationship with Regplot we found the problem of Heteroskedasticity in the data.  \n",
        "\n",
        " "
      ],
      "metadata": {
        "id": "-Qq_k81j8LbQ"
      }
    }
  ]
}